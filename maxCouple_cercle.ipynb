{
 "cells": [
  {
   "cell_type": "markdown",
   "metadata": {},
   "source": [
    "# Maximisation couple moyen\n",
    "\n",
    "Ce notebook propose d'optimiser le rotor d'une machine synchro-réluctante sans aimant à une paire de pôle en vue de maximiser le couple moyen.\n",
    "Dans ce cas particulier, le couple moyen est directement relié à la différence de perméance magnétique du rotor dans l'axe direct d et l'axe en quadrature q.\n",
    "\n",
    "Le problème étudié est donc la maximisation de cette différence de perméance via la différence de compliance magnétique. Il est possible de démontrer que ce problème est mal posé."
   ]
  },
  {
   "cell_type": "code",
   "execution_count": 1,
   "metadata": {},
   "outputs": [
    {
     "name": "stdout",
     "output_type": "stream",
     "text": [
      "importing NGSolve-6.2.2105-9-g5a835126f\n"
     ]
    }
   ],
   "source": [
    "from ngsolve import *\n",
    "from ngsolve.webgui import Draw\n",
    "from netgen.geom2d import SplineGeometry\n",
    "#from netgen.geom2d import unit_square\n",
    "import copy\n",
    "from numpy.random import randint\n",
    "import numpy as np\n",
    "import matplotlib.pyplot as plt"
   ]
  },
  {
   "cell_type": "markdown",
   "metadata": {},
   "source": [
    "## 1) Définition du maillage\n",
    "\n",
    "La première étape consiste à définir une géométrie (disque), ainsi que la finesse de maillage associée."
   ]
  },
  {
   "cell_type": "code",
   "execution_count": 2,
   "metadata": {},
   "outputs": [],
   "source": [
    "#h = 0.1; # ne pas prendre moins de 1/50\n",
    "\n",
    "#mesh = Mesh(unit_square.GenerateMesh(maxh=h))\n",
    "#Draw (mesh)"
   ]
  },
  {
   "cell_type": "code",
   "execution_count": 3,
   "metadata": {},
   "outputs": [
    {
     "data": {
      "application/vnd.jupyter.widget-view+json": {
       "model_id": "dedf4ebb286245b882fa74c447340df4",
       "version_major": 2,
       "version_minor": 0
      },
      "text/plain": [
       "WebGuiWidget(value={'ngsolve_version': '6.2.2105-9-g5a835126f', 'mesh_dim': 2, 'order2d': 1, 'order3d': 1, 'dr…"
      ]
     },
     "metadata": {},
     "output_type": "display_data"
    },
    {
     "data": {
      "text/plain": [
       "BaseWebGuiScene"
      ]
     },
     "execution_count": 3,
     "metadata": {},
     "output_type": "execute_result"
    }
   ],
   "source": [
    "geo = SplineGeometry()\n",
    "\n",
    "R = 1.;\n",
    "h = R/30; # ne pas prendre moins de R/50\n",
    "\n",
    "pnts = [(R,0),(R,-R),(0,-R),(-R,-R),(-R,0),(-R,R),(0,R),(R,R)]\n",
    "\n",
    "p = [geo.AppendPoint(*pnt) for pnt in pnts]\n",
    "\n",
    "\n",
    "geo.Append([\"spline3\",*p[:3]],leftdomain=0,rightdomain=1,bc=\"bottom_right\")\n",
    "geo.Append([\"spline3\",*p[2:5]],leftdomain=0,rightdomain=1,bc=\"bottom_left\")\n",
    "geo.Append([\"spline3\",*p[4:7]],leftdomain=0,rightdomain=1,bc=\"up_left\")\n",
    "geo.Append([\"spline3\",*p[6:],p[0]],leftdomain=0,rightdomain=1,bc=\"up_right\")\n",
    "\n",
    "geo.SetMaterial(1, \"in\")\n",
    "\n",
    "ngmesh = geo.GenerateMesh(maxh=h)\n",
    "mesh = Mesh(ngmesh)\n",
    "Draw (mesh)"
   ]
  },
  {
   "cell_type": "markdown",
   "metadata": {},
   "source": [
    "## 2) Définition des problèmes éléments finis\n",
    "\n",
    "L'objectif est ici de maximiser la différence de compliance magnétique pour deux chargement distincts. On va résoudre le problème magnétostatique dual ; pour cela, remarquons qu'en l'absence de termes sources:\n",
    "\n",
    "$$ \\overrightarrow{\\text{rot}} ~ \\overrightarrow{h} = 0 $$\n",
    "\n",
    "On pose donc $\\phi$ un potentiel scalaire tel que $\\overrightarrow{h} = \\overrightarrow{\\text{grad}} ~ \\phi$, qui vérifie donc dans $\\Omega$:\n",
    "$$ \\text{div}( \\mu ~\\overrightarrow{\\text{grad}} ~ \\phi ) = 0 $$\n",
    "\n",
    "$\\phi$ est un champ scalaire qu'on va supposer appartenant à $H^1$. Les conditions aux bords sont de Neumann. La solution est unique à une constante près. Les deux problèmes à résoudre s'écrivent donc :\n",
    "\n",
    "$$\\left \\{\n",
    "\\begin{array}{l}\n",
    "     \\text{div}( \\mu ~\\overrightarrow{\\text{grad}} ~ \\phi ) = 0 \\\\\n",
    "     \\frac{\\partial \\phi}{\\partial n} = \\Phi ~ \\text{sur} ~ \\Gamma_1 \\bigcup \\Gamma_2 \\\\\n",
    "     \\frac{\\partial \\phi}{\\partial n} = - \\Phi ~ \\text{sur} ~ \\Gamma_3 \\bigcup \\Gamma_4 \n",
    "\\end{array}\n",
    "\\right. $$\n",
    "\n",
    "$$\\left \\{\n",
    "\\begin{array}{l}\n",
    "     \\text{div}( \\mu ~\\overrightarrow{\\text{grad}} ~ \\phi ) = 0 \\\\\n",
    "     \\frac{\\partial \\phi}{\\partial n} = \\Phi ~ \\text{sur} ~ \\Gamma_2 \\bigcup \\Gamma_3 \\\\\n",
    "     \\frac{\\partial \\phi}{\\partial n} = - \\Phi ~ \\text{sur} ~ \\Gamma_1 \\bigcup \\Gamma_4 \n",
    "\\end{array}\n",
    "\\right. $$\n"
   ]
  },
  {
   "cell_type": "markdown",
   "metadata": {},
   "source": [
    "Sous forme faible, ce problème s'écrit donc :\n",
    "\n",
    "$$\\forall \\psi \\in H^1, \\underbrace{\\int_{\\Omega} ~\\overrightarrow{\\text{grad}} ~ \\psi \\cdot  \\mu ~\\overrightarrow{\\text{grad}} ~ \\phi}_{\\text{forme bilinéaire} } = \\underbrace{\\int_{\\Gamma_+} \\psi \\Phi - \\int_{\\Gamma_-} \\psi \\Phi}_{\\text{forme linéaire}} $$\n",
    "\n",
    "Par ailleurs, on suppose que $\\mu$ est constante par morceau."
   ]
  },
  {
   "cell_type": "code",
   "execution_count": 4,
   "metadata": {},
   "outputs": [],
   "source": [
    "PHI = 1;\n",
    "\n",
    "def solvePb(mu):\n",
    "    fespace_H1 = H1(mesh, order=1)\n",
    "    fespace_H1.FreeDofs()[0] = False\n",
    "    phi = fespace_H1.TrialFunction()\n",
    "    psi = fespace_H1.TestFunction()\n",
    "    K = BilinearForm(fespace_H1, symmetric=True)\n",
    "    K +=  InnerProduct(grad(psi),mu*grad(phi))*dx\n",
    "\n",
    "    n= specialcf.normal(mesh.dim);\n",
    "    \n",
    "    l1 = LinearForm(fespace_H1)\n",
    "    l1 += -psi* PHI * sqrt(R-x*x)* ds(definedon=mesh.Boundaries(\"bottom_right|bottom_left\"))\n",
    "    l1 += psi*PHI* sqrt(R-x*x)*ds(definedon=mesh.Boundaries(\"up_right|up_left\"))\n",
    "\n",
    "    l2 = LinearForm(fespace_H1)\n",
    "    l2 += -psi*PHI*sqrt(R-y*y)*ds(definedon=mesh.Boundaries(\"bottom_right|up_right\"))\n",
    "    l2 += psi*PHI*sqrt(R-y*y)*ds(definedon=mesh.Boundaries(\"bottom_left|up_left\"))\n",
    "    \n",
    "    K.Assemble()\n",
    "    l1.Assemble()\n",
    "    l2.Assemble()\n",
    "    \n",
    "    phi1 = GridFunction(fespace_H1)  # solution\n",
    "    phi1.vec.data =     K.mat.Inverse(inverse=\"sparsecholesky\") * l1.vec\n",
    "    phi2 = GridFunction(fespace_H1)  # solution\n",
    "    phi2.vec.data =     K.mat.Inverse(inverse=\"sparsecholesky\") * l2.vec\n",
    "    \n",
    "    return(phi1, phi2)\n",
    "    \n",
    "fespace_mu = L2(mesh, order=0)    \n",
    "mu = GridFunction(fespace_mu)\n",
    "s = randint(3, size=len(mu.vec[:].FV()))-1\n",
    "mu.vec[:]= 4e-7*3.14*(2+s[:]) # situation initiale aléatoire\n",
    "#mu.vec[:]= 4e-7*3.14*1.5 # situation initiale uniforme"
   ]
  },
  {
   "cell_type": "code",
   "execution_count": 5,
   "metadata": {},
   "outputs": [],
   "source": [
    "phi1, phi2 = solvePb(mu)"
   ]
  },
  {
   "cell_type": "code",
   "execution_count": 6,
   "metadata": {},
   "outputs": [
    {
     "data": {
      "application/vnd.jupyter.widget-view+json": {
       "model_id": "b8c08be410dd4279b1015f38a62d052c",
       "version_major": 2,
       "version_minor": 0
      },
      "text/plain": [
       "WebGuiWidget(value={'ngsolve_version': '6.2.2105-9-g5a835126f', 'mesh_dim': 2, 'order2d': 2, 'order3d': 2, 'dr…"
      ]
     },
     "metadata": {},
     "output_type": "display_data"
    }
   ],
   "source": [
    "Draw (grad(phi1), mesh,vectors = { \"grid_size\":20});"
   ]
  },
  {
   "cell_type": "code",
   "execution_count": 7,
   "metadata": {},
   "outputs": [
    {
     "data": {
      "application/vnd.jupyter.widget-view+json": {
       "model_id": "ee4b42a5e1424660bba6e6316be60fa9",
       "version_major": 2,
       "version_minor": 0
      },
      "text/plain": [
       "WebGuiWidget(value={'ngsolve_version': '6.2.2105-9-g5a835126f', 'mesh_dim': 2, 'order2d': 2, 'order3d': 2, 'dr…"
      ]
     },
     "metadata": {},
     "output_type": "display_data"
    }
   ],
   "source": [
    "Draw (phi2, mesh);"
   ]
  },
  {
   "cell_type": "markdown",
   "metadata": {},
   "source": [
    "## 3) Optimisation\n",
    "\n",
    "Le problème est auto-adjoint. Ainsi, l'adjoint s'écrit $\\psi = -\\phi$ et l'identification $\\mathcal{L}^2$ du gradient par rapport à $\\mu$ s'écrit:\n",
    "$$\\partial_\\mu \\mathcal{L} = -\\int_\\Omega |\\nabla \\phi|^2 $$"
   ]
  },
  {
   "cell_type": "code",
   "execution_count": 8,
   "metadata": {},
   "outputs": [],
   "source": [
    "def gradient(phi1,phi2):\n",
    "    return(-grad(phi1)*grad(phi1) + grad(phi2)*grad(phi2))\n",
    "\n",
    "def objective(phi1,phi2,mu):\n",
    "    return(Integrate(grad(phi1)*mu* grad(phi1) -  grad(phi2)*mu* grad(phi2), mesh))\n"
   ]
  },
  {
   "cell_type": "code",
   "execution_count": 9,
   "metadata": {
    "scrolled": true
   },
   "outputs": [
    {
     "name": "stdout",
     "output_type": "stream",
     "text": [
      "617.5463672783281 - normalized step : 0.33333333333333337\n",
      "-70325.66760424234 - normalized step : 0.33333333333333337\n",
      "-168723.3019548435 - normalized step : 0.39999999999999997\n",
      "-245860.71967051 - normalized step : 0.48\n",
      "-278306.57783607324 - normalized step : 0.576\n",
      "-296046.0688174281 - normalized step : 0.6911999999999999\n",
      "-305805.8467817082 - normalized step : 0.8294399999999998\n",
      "-306518.1737093385 - normalized step : 0.9953279999999998\n",
      "-306325.3109739796 - normalized step : 1.1943935999999997\n",
      "-315441.61668048165 - normalized step : 0.5971967999999999\n",
      "-320879.146617918 - normalized step : 0.7166361599999997\n",
      "-322134.8141841777 - normalized step : 0.8599633919999996\n",
      "-321788.77169262816 - normalized step : 1.0319560703999995\n",
      "-327316.28251273144 - normalized step : 0.5159780351999997\n",
      "-333874.82177477126 - normalized step : 0.6191736422399997\n",
      "-334324.99286378705 - normalized step : 0.7430083706879996\n",
      "-335414.05264262256 - normalized step : 0.8916100448255996\n",
      "-334810.5093383737 - normalized step : 1.0699320537907193\n",
      "-336863.57031596807 - normalized step : 0.5349660268953597\n",
      "-338048.6732149171 - normalized step : 0.6419592322744316\n",
      "-338062.95152601687 - normalized step : 0.7703510787293179\n",
      "-338939.64951713796 - normalized step : 0.9244212944751814\n",
      "-337429.87690032675 - normalized step : 1.1093055533702176\n",
      "-339452.92256468214 - normalized step : 0.5546527766851088\n",
      "-339889.0396585709 - normalized step : 0.6655833320221306\n",
      "-339199.2392160207 - normalized step : 0.7986999984265566\n",
      "-340060.9943186641 - normalized step : 0.3993499992132783\n",
      "-340605.9811300109 - normalized step : 0.47921999905593393\n",
      "-340620.99337809894 - normalized step : 0.5750639988671208\n",
      "-341030.5113103181 - normalized step : 0.6900767986405448\n",
      "-340170.1920136672 - normalized step : 0.8280921583686539\n",
      "-340965.78652455215 - normalized step : 0.41404607918432695\n",
      "-341220.79965732706 - normalized step : 0.4968552950211923\n",
      "-341139.8949329663 - normalized step : 0.5962263540254308\n",
      "-341414.7110644713 - normalized step : 0.2981131770127154\n",
      "-341534.27638250904 - normalized step : 0.3577358124152584\n",
      "-341564.078414643 - normalized step : 0.4292829748983101\n",
      "-341526.51406012283 - normalized step : 0.515139569877972\n",
      "-341628.7133482143 - normalized step : 0.257569784938986\n",
      "-341671.6046529586 - normalized step : 0.30908374192678323\n",
      "-341607.20538618404 - normalized step : 0.3709004903121399\n",
      "-341713.38043304667 - normalized step : 0.18545024515606995\n",
      "-341735.0479690617 - normalized step : 0.22254029418728394\n",
      "-341693.85743151215 - normalized step : 0.2670483530247407\n",
      "-341759.65370527643 - normalized step : 0.13352417651237036\n",
      "-341787.06956095324 - normalized step : 0.16022901181484442\n",
      "-341804.06476015586 - normalized step : 0.1922748141778133\n",
      "-341880.1288425712 - normalized step : 0.23072977701337594\n",
      "-341831.38787961775 - normalized step : 0.2768757324160511\n",
      "-341888.2976337362 - normalized step : 0.13843786620802556\n",
      "-341890.19567903184 - normalized step : 0.16612543944963068\n",
      "-341866.4369063721 - normalized step : 0.19935052733955683\n",
      "-341895.0694117813 - normalized step : 0.09967526366977841\n",
      "-341906.10356623516 - normalized step : 0.1196103164037341\n",
      "-341906.47534122376 - normalized step : 0.1435323796844809\n",
      "-341924.2197518151 - normalized step : 0.17223885562137706\n",
      "-341910.3123917534 - normalized step : 0.20668662674565247\n",
      "-341941.0662308572 - normalized step : 0.10334331337282623\n",
      "-341951.2363071675 - normalized step : 0.12401197604739148\n",
      "-341949.2286811032 - normalized step : 0.14881437125686978\n",
      "-341960.2337869593 - normalized step : 0.07440718562843489\n",
      "-341960.32866360026 - normalized step : 0.08928862275412185\n",
      "-341957.70438772277 - normalized step : 0.10714634730494621\n",
      "-341962.60601662355 - normalized step : 0.053573173652473105\n",
      "-341961.22930673294 - normalized step : 0.06428780838296773\n",
      "-341963.25737053616 - normalized step : 0.032143904191483864\n",
      "-341962.87993117206 - normalized step : 0.03857268502978063\n",
      "-341963.481797863 - normalized step : 0.019286342514890316\n",
      "-341963.36471400794 - normalized step : 0.02314361101786838\n",
      "-341963.6158898653 - normalized step : 0.01157180550893419\n",
      "-341963.50952870667 - normalized step : 0.013886166610721026\n",
      "-341963.6410649398 - normalized step : 0.006943083305360513\n",
      "-341963.6517849309 - normalized step : 0.008331699966432616\n",
      "-341963.6216797711 - normalized step : 0.009998039959719138\n",
      "-341963.67952995887 - normalized step : 0.004999019979859569\n",
      "-341963.67575797264 - normalized step : 0.005998823975831483\n",
      "-341963.68936173065 - normalized step : 0.0029994119879157414\n",
      "-341963.68853760656 - normalized step : 0.0035992943854988896\n",
      "-341963.69628356415 - normalized step : 0.0017996471927494448\n",
      "-341963.6982483051 - normalized step : 0.002159576631299334\n",
      "-341963.69775762374 - normalized step : 0.0025914919575592004\n",
      "-341963.70219142525 - normalized step : 0.0012957459787796002\n",
      "-341963.7043428133 - normalized step : 0.0015548951745355203\n",
      "-341963.7045443586 - normalized step : 0.0018658742094426243\n",
      "-341963.7053654318 - normalized step : 0.002239049051331149\n",
      "-341963.7047907098 - normalized step : 0.002686858861597379\n",
      "-341963.707484534 - normalized step : 0.0013434294307986894\n",
      "-341963.70610612177 - normalized step : 0.001612115316958427\n",
      "-341963.707582245 - normalized step : 0.0008060576584792135\n",
      "-341963.7076806233 - normalized step : 0.0009672691901750561\n",
      "-341963.7074263894 - normalized step : 0.0011607230282100673\n",
      "-341963.707969381 - normalized step : 0.0005803615141050337\n",
      "-341963.7078321555 - normalized step : 0.0006964338169260404\n",
      "-341963.7080380807 - normalized step : 0.0003482169084630202\n",
      "-341963.70798915665 - normalized step : 0.00041786029015562423\n",
      "-341963.70807181235 - normalized step : 0.00020893014507781212\n",
      "-341963.7080707601 - normalized step : 0.00025071617409337454\n",
      "-341963.7080929557 - normalized step : 0.00012535808704668727\n",
      "-341963.7080861939 - normalized step : 0.00015042970445602473\n",
      "-341963.70810035156 - normalized step : 7.521485222801236e-05\n"
     ]
    }
   ],
   "source": [
    "J=[]\n",
    "mu0 = 4e-7*3.14\n",
    "mu_max = 3* mu0\n",
    "step = (mu_max-mu0)/3\n",
    "g = GridFunction(fespace_mu)\n",
    "G=[]\n",
    "MU=[]\n",
    "for i in range(100):\n",
    "    phi1, phi2 = solvePb(mu)\n",
    "    g.Set(gradient(phi1,phi2))\n",
    "    g.vec[:]= np.sign(g.vec[:].FV().NumPy())\n",
    "    J.append(objective(phi1,phi2,mu))\n",
    "    MU.append(copy.copy(mu))\n",
    "    G.append(copy.copy(g))\n",
    "    print(f'{J[-1]} - normalized step : {step/(mu_max-mu0)}')\n",
    "    \n",
    "    if i>0 and J[-1]< J[-2]:\n",
    "        step = step*1.2\n",
    "    elif i>0:\n",
    "        step = step/2\n",
    "        \n",
    "    mu.Set(MU[i] - G[i]*step)\n",
    "    mu.vec[:].FV().NumPy()[mu.vec[:].FV().NumPy()<mu0]=mu0\n",
    "    mu.vec[:].FV().NumPy()[mu.vec[:].FV().NumPy()>mu_max]=mu_max\n",
    "    if np.isnan(np.sum(mu.vec[:].FV().NumPy())):\n",
    "        break\n",
    "    if step/(mu_max-mu0) < 1e-4:\n",
    "        break"
   ]
  },
  {
   "cell_type": "code",
   "execution_count": 10,
   "metadata": {
    "scrolled": true
   },
   "outputs": [
    {
     "data": {
      "application/vnd.jupyter.widget-view+json": {
       "model_id": "7ee8a98019bd41de89c329c17344dd23",
       "version_major": 2,
       "version_minor": 0
      },
      "text/plain": [
       "WebGuiWidget(value={'ngsolve_version': '6.2.2105-9-g5a835126f', 'mesh_dim': 2, 'order2d': 2, 'order3d': 2, 'dr…"
      ]
     },
     "metadata": {},
     "output_type": "display_data"
    },
    {
     "data": {
      "text/plain": [
       "BaseWebGuiScene"
      ]
     },
     "execution_count": 10,
     "metadata": {},
     "output_type": "execute_result"
    }
   ],
   "source": [
    "Draw(MU[60],mesh,min=mu0,max=mu_max)"
   ]
  },
  {
   "cell_type": "code",
   "execution_count": 11,
   "metadata": {},
   "outputs": [
    {
     "data": {
      "text/plain": [
       "[<matplotlib.lines.Line2D at 0x7fa25c499190>]"
      ]
     },
     "execution_count": 11,
     "metadata": {},
     "output_type": "execute_result"
    },
    {
     "data": {
      "image/png": "[encoded data removed]",
      "text/plain": [
       "<Figure size 432x288 with 1 Axes>"
      ]
     },
     "metadata": {
      "needs_background": "light"
     },
     "output_type": "display_data"
    }
   ],
   "source": [
    "plt.plot(J)"
   ]
  },
  {
   "cell_type": "code",
   "execution_count": null,
   "metadata": {},
   "outputs": [],
   "source": []
  },
  {
   "cell_type": "code",
   "execution_count": null,
   "metadata": {},
   "outputs": [],
   "source": []
  },
  {
   "cell_type": "code",
   "execution_count": null,
   "metadata": {},
   "outputs": [],
   "source": []
  },
  {
   "cell_type": "code",
   "execution_count": null,
   "metadata": {},
   "outputs": [],
   "source": []
  },
  {
   "cell_type": "code",
   "execution_count": null,
   "metadata": {},
   "outputs": [],
   "source": []
  },
  {
   "cell_type": "code",
   "execution_count": null,
   "metadata": {},
   "outputs": [],
   "source": []
  },
  {
   "cell_type": "code",
   "execution_count": null,
   "metadata": {},
   "outputs": [],
   "source": []
  },
  {
   "cell_type": "code",
   "execution_count": null,
   "metadata": {},
   "outputs": [],
   "source": []
  },
  {
   "cell_type": "code",
   "execution_count": null,
   "metadata": {},
   "outputs": [],
   "source": []
  },
  {
   "cell_type": "code",
   "execution_count": null,
   "metadata": {},
   "outputs": [],
   "source": []
  },
  {
   "cell_type": "code",
   "execution_count": null,
   "metadata": {},
   "outputs": [],
   "source": []
  },
  {
   "cell_type": "code",
   "execution_count": null,
   "metadata": {},
   "outputs": [],
   "source": []
  },
  {
   "cell_type": "code",
   "execution_count": null,
   "metadata": {},
   "outputs": [],
   "source": []
  },
  {
   "cell_type": "code",
   "execution_count": null,
   "metadata": {},
   "outputs": [],
   "source": []
  }
 ],
 "metadata": {
  "kernelspec": {
   "display_name": "Python 3 (ipykernel)",
   "language": "python",
   "name": "python3"
  },
  "language_info": {
   "codemirror_mode": {
    "name": "ipython",
    "version": 3
   },
   "file_extension": ".py",
   "mimetype": "text/x-python",
   "name": "python",
   "nbconvert_exporter": "python",
   "pygments_lexer": "ipython3",
   "version": "3.8.10"
  },
  "livereveal": {
   "autolaunch": true
  },
  "toc": {
   "base_numbering": 1,
   "nav_menu": {},
   "number_sections": true,
   "sideBar": true,
   "skip_h1_title": false,
   "title_cell": "Table of Contents",
   "title_sidebar": "Contents",
   "toc_cell": false,
   "toc_position": {},
   "toc_section_display": true,
   "toc_window_display": false
  }
 },
 "nbformat": 4,
 "nbformat_minor": 4
}
