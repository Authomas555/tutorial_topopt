{
 "cells": [
  {
   "cell_type": "code",
   "execution_count": 1,
   "metadata": {},
   "outputs": [
    {
     "ename": "ModuleNotFoundError",
     "evalue": "No module named 'ngsolve'",
     "output_type": "error",
     "traceback": [
      "\u001b[1;31m---------------------------------------------------------------------------\u001b[0m",
      "\u001b[1;31mModuleNotFoundError\u001b[0m                       Traceback (most recent call last)",
      "\u001b[1;32m~\\AppData\\Local\\Temp\\ipykernel_20628\\3219029117.py\u001b[0m in \u001b[0;36m<module>\u001b[1;34m\u001b[0m\n\u001b[1;32m----> 1\u001b[1;33m \u001b[1;32mfrom\u001b[0m \u001b[0mngsolve\u001b[0m \u001b[1;32mimport\u001b[0m \u001b[1;33m*\u001b[0m\u001b[1;33m\u001b[0m\u001b[1;33m\u001b[0m\u001b[0m\n\u001b[0m\u001b[0;32m      2\u001b[0m \u001b[1;32mfrom\u001b[0m \u001b[0mngsolve\u001b[0m\u001b[1;33m.\u001b[0m\u001b[0mwebgui\u001b[0m \u001b[1;32mimport\u001b[0m \u001b[0mDraw\u001b[0m\u001b[1;33m\u001b[0m\u001b[1;33m\u001b[0m\u001b[0m\n\u001b[0;32m      3\u001b[0m \u001b[1;32mfrom\u001b[0m \u001b[0mnetgen\u001b[0m\u001b[1;33m.\u001b[0m\u001b[0mgeom2d\u001b[0m \u001b[1;32mimport\u001b[0m \u001b[0mSplineGeometry\u001b[0m\u001b[1;33m\u001b[0m\u001b[1;33m\u001b[0m\u001b[0m\n",
      "\u001b[1;31mModuleNotFoundError\u001b[0m: No module named 'ngsolve'"
     ]
    }
   ],
   "source": [
    "from ngsolve import *\n",
    "from ngsolve.webgui import Draw\n",
    "from netgen.geom2d import SplineGeometry"
   ]
  },
  {
   "cell_type": "markdown",
   "metadata": {},
   "source": [
    "## 1) Construction du maillage"
   ]
  },
  {
   "cell_type": "code",
   "execution_count": null,
   "metadata": {},
   "outputs": [],
   "source": [
    "geo = SplineGeometry()\n",
    "\n",
    "geo.AddRectangle(p1=(-3,-3),p2=(3,3),bc=\"rectangle\",leftdomain=1,rightdomain=0,\n",
    "                 bcs = (\"right\", \"top\", \"left\", \"bot\"))\n",
    "geo.AddRectangle(p1=(-0.6,-0.2), p2=(-0.5,0.2),bc=\"rectangle\",leftdomain=2,rightdomain=1)\n",
    "geo.AddRectangle(p1=(-0.3,-0.2),p2=(-0.2,0.2),bc=\"rectangle\",leftdomain=3,rightdomain=1)\n",
    "geo.AddRectangle(p1=(0.2,-0.2),p2=(0.3,0.2),bc=\"rectangle\",leftdomain=4,rightdomain=1)\n",
    "geo.AddRectangle(p1=(0.5,-0.2),p2=(0.6,0.2),bc=\"rectangle\",leftdomain=5,rightdomain=1)\n",
    "\n",
    "geo.SetMaterial (1, \"zone_optim\")\n",
    "geo.SetMaterial (2, \"primaire_p\")\n",
    "geo.SetMaterial (3, \"primaire_m\")\n",
    "geo.SetMaterial (4, \"secondaire_p\")\n",
    "geo.SetMaterial (5, \"secondaire_m\")\n",
    "\n",
    "#geo.SetDomainMaxH(1, 0.05)\n",
    "ngmesh = geo.GenerateMesh(maxh=0.1)\n",
    "mesh = Mesh(ngmesh)\n",
    "Draw (mesh)\n",
    "mesh.GetBoundaries()"
   ]
  },
  {
   "cell_type": "code",
   "execution_count": null,
   "metadata": {},
   "outputs": [],
   "source": [
    "J= 1e6;\n",
    "\n",
    "fespace_H1 = H1(mesh, order=1, dirichlet=\"right|top|left|bot\")\n",
    "\n",
    "a = fespace_H1.TrialFunction()\n",
    "v = fespace_H1.TestFunction()\n",
    "\n",
    "f = LinearForm(fespace_H1)\n",
    "f += v*J*dx(\"primaire_p\") - v*J*dx(\"primaire_m\")\n",
    "\n",
    "f.Assemble()\n",
    "\n",
    "nu0 = 1/(4e-7*3.14)\n",
    "FB = BilinearForm(fespace_H1)\n",
    "FB += grad(a)*nu0*grad(v)*dx\n",
    "\n",
    "FB.Assemble()"
   ]
  },
  {
   "cell_type": "code",
   "execution_count": null,
   "metadata": {},
   "outputs": [],
   "source": [
    "solution = GridFunction(fespace_H1)  # solution \n",
    "solution.vec.data = FB.mat.Inverse(fespace_H1.FreeDofs()) * f.vec\n",
    "Draw (solution)"
   ]
  },
  {
   "cell_type": "code",
   "execution_count": null,
   "metadata": {},
   "outputs": [],
   "source": [
    "derivee = solution * nu0* solution;"
   ]
  },
  {
   "cell_type": "code",
   "execution_count": null,
   "metadata": {},
   "outputs": [],
   "source": [
    "Draw (derivee,mesh)"
   ]
  },
  {
   "cell_type": "code",
   "execution_count": null,
   "metadata": {},
   "outputs": [],
   "source": []
  },
  {
   "cell_type": "code",
   "execution_count": null,
   "metadata": {},
   "outputs": [],
   "source": []
  },
  {
   "cell_type": "code",
   "execution_count": null,
   "metadata": {},
   "outputs": [],
   "source": []
  }
 ],
 "metadata": {
  "kernelspec": {
   "display_name": "Python 3 (ipykernel)",
   "language": "python",
   "name": "python3"
  },
  "language_info": {
   "codemirror_mode": {
    "name": "ipython",
    "version": 3
   },
   "file_extension": ".py",
   "mimetype": "text/x-python",
   "name": "python",
   "nbconvert_exporter": "python",
   "pygments_lexer": "ipython3",
   "version": "3.7.10"
  },
  "livereveal": {
   "autolaunch": true
  },
  "toc": {
   "base_numbering": 1,
   "nav_menu": {},
   "number_sections": true,
   "sideBar": true,
   "skip_h1_title": false,
   "title_cell": "Table of Contents",
   "title_sidebar": "Contents",
   "toc_cell": false,
   "toc_position": {},
   "toc_section_display": true,
   "toc_window_display": false
  }
 },
 "nbformat": 4,
 "nbformat_minor": 4
}
