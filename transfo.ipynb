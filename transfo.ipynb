{
 "cells": [
  {
   "cell_type": "code",
   "execution_count": 1,
   "metadata": {},
   "outputs": [
    {
     "name": "stdout",
     "output_type": "stream",
     "text": [
      "importing NGSolve-6.2.2105-9-g5a835126f\n"
     ]
    }
   ],
   "source": [
    "from ngsolve import *\n",
    "from ngsolve.webgui import Draw\n",
    "from netgen.geom2d import SplineGeometry\n",
    "import numpy as np\n",
    "from copy import copy"
   ]
  },
  {
   "cell_type": "markdown",
   "metadata": {},
   "source": [
    "## 1) Construction du maillage\n",
    "\n",
    "On construit le maillage, qui contient deux bobine dans un carré d'air."
   ]
  },
  {
   "cell_type": "code",
   "execution_count": 2,
   "metadata": {},
   "outputs": [
    {
     "data": {
      "application/vnd.jupyter.widget-view+json": {
       "model_id": "333cbd7686a34024ab7e7c1dc8d7c1f7",
       "version_major": 2,
       "version_minor": 0
      },
      "text/plain": [
       "WebGuiWidget(value={'ngsolve_version': '6.2.2105-9-g5a835126f', 'mesh_dim': 2, 'order2d': 1, 'order3d': 1, 'dr…"
      ]
     },
     "metadata": {},
     "output_type": "display_data"
    },
    {
     "data": {
      "text/plain": [
       "BaseWebGuiScene"
      ]
     },
     "execution_count": 2,
     "metadata": {},
     "output_type": "execute_result"
    }
   ],
   "source": [
    "geo = SplineGeometry()\n",
    "\n",
    "geo.AddRectangle(p1=(-3,-3),p2=(3,3),bc=\"rectangle\",leftdomain=1,rightdomain=0,\n",
    "                 bcs = (\"right\", \"top\", \"left\", \"bot\"))\n",
    "geo.AddRectangle(p1=(-1,-0.2), p2=(-0.9,0.2),bc=\"rectangle\",leftdomain=2,rightdomain=1)\n",
    "geo.AddRectangle(p1=(-0.7,-0.2),p2=(-0.6,0.2),bc=\"rectangle\",leftdomain=3,rightdomain=1)\n",
    "geo.AddRectangle(p1=(0.6,-0.2),p2=(0.7,0.2),bc=\"rectangle\",leftdomain=4,rightdomain=1)\n",
    "geo.AddRectangle(p1=(0.9,-0.2),p2=(1,0.2),bc=\"rectangle\",leftdomain=5,rightdomain=1)\n",
    "\n",
    "geo.SetMaterial (1, \"zone_optim\")\n",
    "geo.SetMaterial (2, \"primaire_p\")\n",
    "geo.SetMaterial (3, \"primaire_m\")\n",
    "geo.SetMaterial (4, \"secondaire_p\")\n",
    "geo.SetMaterial (5, \"secondaire_m\")\n",
    "\n",
    "#geo.SetDomainMaxH(1, 0.05)\n",
    "ngmesh = geo.GenerateMesh(maxh=0.1)\n",
    "mesh = Mesh(ngmesh)\n",
    "Draw(mesh)\n",
    "#mesh.GetBoundaries()"
   ]
  },
  {
   "cell_type": "markdown",
   "metadata": {},
   "source": [
    "# 2) Formulation variationnelle\n",
    "\n",
    "L'équation magnétostatique s'écrit en 2D :\n",
    "\n",
    "$$ \\text{div}(\\nu ~ \\overrightarrow{\\text{grad}} ~ a_z) = j_z  $$\n",
    "\n",
    "On choisit des conditions limites de Dirichlet homogène. Le problème sous forme faible s'écrit alors :\n",
    "\n",
    "$$ \\text{Trouver}~ a_z \\in H^1_0 = \\{ a \\in H^1, a = 0 ~\\text{sur}~ \\partial \\Omega \\},\\quad \\text{tel que}~ \\forall \\phi \\in H^1_0,$$\n",
    "\n",
    "$$ \\underbrace{\\int_\\Omega \\overrightarrow{\\text{grad}} ~ \\phi . \\nu~ \\overrightarrow{\\text{grad}} ~ a_z}_{\\text{forme bilinéaire}} = \\underbrace{\\int_\\Omega \\phi j_z}_{\\text{forme linéaire}}$$"
   ]
  },
  {
   "cell_type": "code",
   "execution_count": 3,
   "metadata": {},
   "outputs": [],
   "source": [
    "J= 1e6;\n",
    "\n",
    "def solvePb(nu):\n",
    "    \n",
    "    # 1) définition de l'espace fonctionnel\n",
    "    \n",
    "    fespace_H1 = H1(mesh, order=1, dirichlet=\"right|top|left|bot\")\n",
    "    a = fespace_H1.TrialFunction()\n",
    "    phi = fespace_H1.TestFunction()\n",
    "\n",
    "    # 2) Définition de la forme linéaire\n",
    "    \n",
    "    l = LinearForm(fespace_H1)\n",
    "    l += phi*J*dx(\"primaire_p\") - a_star*J*dx(\"primaire_m\")\n",
    "    \n",
    "\n",
    "    # 2) Définition de la forme bilinéaire\n",
    "    \n",
    "    K = BilinearForm(fespace_H1, symmetric=True)\n",
    "    K += grad(phi)*nu*grad(a)*dx\n",
    "    \n",
    "    # 3) Assemblage -> on sort du monde continu pour discrétiser et résoudre !\n",
    "    \n",
    "    l.Assemble()\n",
    "    K.Assemble()\n",
    "    \n",
    "    # 4) Résolution\n",
    "    \n",
    "    sol = GridFunction(fespace_H1)  # solution\n",
    "    sol.vec.data =     K.mat.Inverse(inverse=\"sparsecholesky\") * l.vec\n",
    "    \n",
    "    return(sol)"
   ]
  },
  {
   "cell_type": "markdown",
   "metadata": {},
   "source": [
    "# 3) Définition des variables d'optimisation\n",
    "\n",
    "Les variables d'optimisation seront des \"densités\"; à chaque densité est attribué une réluctivité magnétique. Comme ces densités ne sont pas continues, on les choisit dans l'espace $\\mathcal{L}^2$."
   ]
  },
  {
   "cell_type": "code",
   "execution_count": 7,
   "metadata": {},
   "outputs": [
    {
     "data": {
      "application/vnd.jupyter.widget-view+json": {
       "model_id": "3ca118104ef3436ba2df3115e222ef55",
       "version_major": 2,
       "version_minor": 0
      },
      "text/plain": [
       "WebGuiWidget(value={'ngsolve_version': '6.2.2105-9-g5a835126f', 'mesh_dim': 2, 'order2d': 2, 'order3d': 2, 'dr…"
      ]
     },
     "metadata": {},
     "output_type": "display_data"
    },
    {
     "data": {
      "text/plain": [
       "BaseWebGuiScene"
      ]
     },
     "execution_count": 7,
     "metadata": {},
     "output_type": "execute_result"
    }
   ],
   "source": [
    "# Définition des variables d'optimisation\n",
    "\n",
    "\n",
    "fespace_rho = L2(mesh, order=0)\n",
    " \n",
    "rho = GridFunction(fespace_rho)\n",
    "rho.vec[:] = 0.5\n",
    "\n",
    "# Définition de la pénalisation\n",
    "\n",
    "def rho2nu(rho,p):\n",
    "    \n",
    "    nu0 = 1/(4e-7*3.14)\n",
    "    nu_fer = nu0/1000\n",
    "    nu = copy(rho)\n",
    "    nu.vec[:] = nu0 + (nu_fer-nu0) * np.power(rho.vec.FV().NumPy(),p)\n",
    "    \n",
    "    nur = mesh.MaterialCF({ \"secondaire_p\" : 1, \"secondaire_m\" : 1,\n",
    "                      \"primaire_p\" : 1, \"primaire_m\" : 1}, default=0)\n",
    "\n",
    "    nu2 = GridFunction(fespace_rho)\n",
    "    nu2.Set(nur)\n",
    "    nu.vec.FV().NumPy()[nu2.vec.FV().NumPy()[:]==1] = 1/(4e-7*pi)\n",
    "    \n",
    "    return(nu)\n",
    "\n",
    "# Résolution du problème\n",
    "\n",
    "nu = rho2nu(rho,1)\n",
    "sol = solvePb(nu)\n",
    "Draw(sol)"
   ]
  },
  {
   "cell_type": "markdown",
   "metadata": {},
   "source": [
    "# 4) Calcul de la fonction objectif et de sa *dérivée*\n",
    "\n",
    "Avec ce qui précède, on est capable de calculer l'état physique $a_z$ du système, ce qui permet de calculer la fonction objectif $\\mathcal{F}(a_z)$ de notre problème, qu'on souhaite minimiser. Dans notre cas, on souhaite maximiser le flux magnétique $\\phi$ qui traverse la bobine secondaire. Le flux magnétique traversant un segment délimité par deux points $A$ et $B$ est directement proportionnel à la différence de $a_z$ entre ces deux points. On peut alors en déduire la fonction objectif suivante :\n",
    "\n",
    "$$ \\mathcal{F}(a_z) = \\int_{s-} a_z  -   \\int_{s+} a_z $$\n",
    "\n",
    "Où $s-$ et $s+$ représentent les surfaces des conducteurs positifs et négatifs, respectivement."
   ]
  },
  {
   "cell_type": "code",
   "execution_count": 8,
   "metadata": {},
   "outputs": [
    {
     "name": "stdout",
     "output_type": "stream",
     "text": [
      "1.4912058771598813e-05\n"
     ]
    }
   ],
   "source": [
    "def Fobj(az):\n",
    "    return Integrate ( az, mesh.Materials(\"secondaire_m\")) - Integrate ( az, mesh.Materials(\"secondaire_p\"))\n",
    "\n",
    "print(Fobj(sol))"
   ]
  },
  {
   "cell_type": "markdown",
   "metadata": {},
   "source": [
    "Il ne reste plus qu'à calculer la dérivée de cette fonction objectif par rapport à la fonction densité $\\rho$, qui joue le rôle de variable d'optimisation. La dépendance de $\\mathcal{F}$ par rapport à $\\rho$ se fait implicitement au travers de $a_z$. Le problème, c'est qu'on n'a pas d'expression de $a_z(\\rho)$.\n",
    "On utilise alors la méthode de l'adjoint : on introduit un langrangien $\\mathcal{L}$ qui s'écrit pour toutes variables indépendantes $\\tilde{\\rho}, \\tilde{a_z}, \\tilde{p} \\in \\mathcal{L}^2(\\Omega) \\times H^1_0(\\Omega) \\times H^1_0(\\Omega) $ :\n",
    "$$ \\mathcal{L}(\\tilde{\\rho}, \\tilde{a_z}, \\tilde{p}) = \\overbrace{\\mathcal{F}(\\tilde{a_z})}^{\\text{fonction objectif}} + \\underbrace{\\int_\\Omega \\overrightarrow{\\text{grad}} ~ \\tilde{p} . \\nu(\\tilde{\\rho})~ \\overrightarrow{\\text{grad}} ~ \\tilde{a_z} - \\int_\\Omega \\tilde{p} j_z}_{\\text{formulation variationnelle}} $$ \n",
    "\n",
    "Cela permet d'introduire un degré de liberté supplémentaire. En effet :\n",
    "\n",
    "$$ \\forall \\tilde{p} \\in H^1_0(\\Omega), \\quad \\mathcal{F}(a_z(\\rho)) = \\mathcal{L}(a_z, \\rho, \\tilde{p} )$$\n",
    "\n",
    "La règle de la chaîne permet d'affirmer que :\n",
    "\n",
    "$$ \\mathrm{d}_\\rho \\mathcal{F}(a_z(\\rho)) = \\mathrm{d}_\\rho \\mathcal{L}(a_z,\\rho,\\tilde{p}) = \\underbrace{\\partial_\\rho \\mathcal{L}(a_z,\\rho,\\tilde{p})}_{\\text{dérivée partielle, calculable}} + \\overbrace{\\partial_{a_z} \\mathcal{L}(a_z,\\rho,\\tilde{p})}^{\\text{dérivée partielle, calculable}} . \\underbrace{\\mathrm{d}_\\rho a_z}_{\\text{???}} $$\n",
    "\n",
    "On ne connaît pas le terme $\\mathrm{d}_\\rho a_z$ (*en toute rigueur, on ne sait même pas si il existe et donc si cette expression à un sens*). En revanche, on peut utiliser le degré de liberté supplémentaire $\\tilde{p}$ pour annuler le terme $\\partial_a \\mathcal{L}(a_z,\\rho,\\tilde{p})$, ce qui permet de résoudre formellement le problème.\n",
    "\n",
    " - La dérivée fonctionnelle par rapport à $\\tilde{p}$ donne la formulation variationnelle associée à l'état physique $a_z$, qui est annulée lorsque $\\tilde{a_z} = a_z$ :\n",
    "$$ \\forall \\phi \\in H^1_0(\\Omega), \\quad  \\langle \\partial_{\\tilde{p}} \\mathcal{L},\\phi\\rangle = \\int_\\Omega \\overrightarrow{\\text{grad}} ~ \\phi . \\nu(\\tilde{\\rho})~ \\overrightarrow{\\text{grad}} ~ \\tilde{a_z} - \\int_\\Omega \\phi j_z$$\n",
    "\n",
    "- La dérivée fonctionnelle par rapport à $\\tilde{a_z}$ donne la formulation variationnelle associée à l'état adjoint $p$, qui est annulée lorsque $\\tilde{p} = p$ :\n",
    "$$ \\forall \\phi \\in H^1_0(\\Omega), \\quad  \\langle \\partial_{\\tilde{a_z}} \\mathcal{L},\\phi \\rangle = \\underbrace{\\int_{s-} \\phi - \\int_{s+} \\phi}_{ \\partial_{\\tilde{a_z}} \\mathcal{F}} +\\int_\\Omega \\overrightarrow{\\text{grad}} ~ \\tilde{p} . \\nu(\\tilde{\\rho})~ \\overrightarrow{\\text{grad}} ~ \\phi  $$\n",
    "\n",
    "- La dérivée fonctionnelle par rapport à $\\tilde{\\rho}$ :\n",
    "$$ \\forall \\phi \\in H^1_0(\\Omega), \\quad  \\langle \\partial_{\\tilde{\\rho}} \\mathcal{L},\\phi \\rangle = \\int_\\Omega \\overrightarrow{\\text{grad}} ~ \\tilde{p} . \\partial_{\\tilde{\\rho}} \\nu(\\tilde{\\rho})~ \\overrightarrow{\\text{grad}} ~ \\tilde{a_z} \\phi $$\n",
    "\n",
    "On peut procéder ensuite à une identification $\\mathcal{L}^2$, à savoir, trouver une fonction de "
   ]
  },
  {
   "cell_type": "code",
   "execution_count": null,
   "metadata": {},
   "outputs": [],
   "source": []
  },
  {
   "cell_type": "code",
   "execution_count": null,
   "metadata": {},
   "outputs": [],
   "source": []
  }
 ],
 "metadata": {
  "kernelspec": {
   "display_name": "Python 3 (ipykernel)",
   "language": "python",
   "name": "python3"
  },
  "language_info": {
   "codemirror_mode": {
    "name": "ipython",
    "version": 3
   },
   "file_extension": ".py",
   "mimetype": "text/x-python",
   "name": "python",
   "nbconvert_exporter": "python",
   "pygments_lexer": "ipython3",
   "version": "3.8.10"
  },
  "livereveal": {
   "autolaunch": true
  },
  "toc": {
   "base_numbering": 1,
   "nav_menu": {},
   "number_sections": true,
   "sideBar": true,
   "skip_h1_title": false,
   "title_cell": "Table of Contents",
   "title_sidebar": "Contents",
   "toc_cell": false,
   "toc_position": {},
   "toc_section_display": true,
   "toc_window_display": false
  }
 },
 "nbformat": 4,
 "nbformat_minor": 4
}
