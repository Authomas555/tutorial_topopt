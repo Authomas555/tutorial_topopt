{
 "cells": [
  {
   "cell_type": "code",
   "execution_count": 1,
   "metadata": {},
   "outputs": [
    {
     "name": "stdout",
     "output_type": "stream",
     "text": [
      "importing NGSolve-6.2.2105-9-g5a835126f\n"
     ]
    }
   ],
   "source": [
    "from ngsolve import *\n",
    "from ngsolve.webgui import Draw\n",
    "from netgen.geom2d import SplineGeometry\n",
    "import numpy as np\n",
    "from copy import copy\n",
    "import matplotlib.pyplot as plt"
   ]
  },
  {
   "cell_type": "markdown",
   "metadata": {},
   "source": [
    "## 1) Construction du maillage\n",
    "\n",
    "On construit le maillage, qui contient deux bobine dans un carré d'air."
   ]
  },
  {
   "cell_type": "code",
   "execution_count": 2,
   "metadata": {},
   "outputs": [
    {
     "data": {
      "application/vnd.jupyter.widget-view+json": {
       "model_id": "574ea667f0ce4ba38b5cd3ccfc14938c",
       "version_major": 2,
       "version_minor": 0
      },
      "text/plain": [
       "WebGuiWidget(value={'ngsolve_version': '6.2.2105-9-g5a835126f', 'mesh_dim': 2, 'order2d': 1, 'order3d': 1, 'dr…"
      ]
     },
     "metadata": {},
     "output_type": "display_data"
    },
    {
     "data": {
      "text/plain": [
       "BaseWebGuiScene"
      ]
     },
     "execution_count": 2,
     "metadata": {},
     "output_type": "execute_result"
    }
   ],
   "source": [
    "geo = SplineGeometry()\n",
    "\n",
    "geo.AddRectangle(p1=(-3,-3),p2=(3,3),bc=\"rectangle\",leftdomain=1,rightdomain=0,\n",
    "                 bcs = (\"right\", \"top\", \"left\", \"bot\"))\n",
    "geo.AddRectangle(p1=(-1.1,-0.2), p2=(-1,0.2),bc=\"rectangle\",leftdomain=2,rightdomain=1)\n",
    "geo.AddRectangle(p1=(-0.6,-0.2),p2=(-0.5,0.2),bc=\"rectangle\",leftdomain=3,rightdomain=1)\n",
    "geo.AddRectangle(p1=(0.5,-0.2),p2=(0.6,0.2),bc=\"rectangle\",leftdomain=4,rightdomain=1)\n",
    "geo.AddRectangle(p1=(1,-0.2),p2=(1.1,0.2),bc=\"rectangle\",leftdomain=5,rightdomain=1)\n",
    "\n",
    "geo.SetMaterial (1, \"zone_optim\")\n",
    "geo.SetMaterial (2, \"primaire_p\")\n",
    "geo.SetMaterial (3, \"primaire_m\")\n",
    "geo.SetMaterial (4, \"secondaire_p\")\n",
    "geo.SetMaterial (5, \"secondaire_m\")\n",
    "\n",
    "#geo.SetDomainMaxH(1, 0.05)\n",
    "ngmesh = geo.GenerateMesh(maxh=0.2)\n",
    "mesh = Mesh(ngmesh)\n",
    "Draw(mesh)\n",
    "#mesh.GetBoundaries()"
   ]
  },
  {
   "cell_type": "markdown",
   "metadata": {},
   "source": [
    "# 2) Formulation variationnelle\n",
    "\n",
    "L'équation magnétostatique s'écrit en 2D :\n",
    "\n",
    "$$ \\text{div}(\\nu ~ \\overrightarrow{\\text{grad}} ~ a_z) = j_z  $$\n",
    "\n",
    "On choisit des conditions limites de Dirichlet homogène. Le problème sous forme faible s'écrit alors :\n",
    "\n",
    "$$ \\text{Trouver}~ a_z \\in H^1_0 = \\{ a \\in H^1, a = 0 ~\\text{sur}~ \\partial \\Omega \\},\\quad \\text{tel que}~ \\forall \\phi \\in H^1_0,$$\n",
    "\n",
    "$$ \\underbrace{\\int_\\Omega \\overrightarrow{\\text{grad}} ~ \\phi . \\nu~ \\overrightarrow{\\text{grad}} ~ a_z}_{\\text{forme bilinéaire}} = \\underbrace{\\int_\\Omega \\phi j_z}_{\\text{forme linéaire}}$$"
   ]
  },
  {
   "cell_type": "code",
   "execution_count": 3,
   "metadata": {},
   "outputs": [],
   "source": [
    "J= 1e6;\n",
    "\n",
    "def solveDirect(nu):\n",
    "    \n",
    "    # 1) définition de l'espace fonctionnel\n",
    "    \n",
    "    fespace_H1 = H1(mesh, order=1, dirichlet=\"right|top|left|bot\")\n",
    "    a = fespace_H1.TrialFunction()\n",
    "    phi = fespace_H1.TestFunction()\n",
    "\n",
    "    # 2) Définition de la forme linéaire\n",
    "    \n",
    "    l = LinearForm(fespace_H1)\n",
    "    l += phi*J*dx(\"primaire_p\") - phi*J*dx(\"primaire_m\")\n",
    "    \n",
    "\n",
    "    # 2) Définition de la forme bilinéaire\n",
    "    \n",
    "    K = BilinearForm(fespace_H1, symmetric=True)\n",
    "    K += grad(phi)*nu*grad(a)*dx\n",
    "    \n",
    "    # 3) Assemblage -> on sort du monde continu pour discrétiser et résoudre !\n",
    "    \n",
    "    l.Assemble()\n",
    "    K.Assemble()\n",
    "    \n",
    "    # 4) Résolution\n",
    "    \n",
    "    direct_state = GridFunction(fespace_H1)  # solution\n",
    "    direct_state.vec.data =     K.mat.Inverse(inverse=\"sparsecholesky\",\n",
    "                                              freedofs=fespace_H1.FreeDofs()) * l.vec\n",
    "    \n",
    "    return direct_state"
   ]
  },
  {
   "cell_type": "markdown",
   "metadata": {},
   "source": [
    "# 3) Définition des variables d'optimisation\n",
    "\n",
    "Les variables d'optimisation seront des \"densités\"; à chaque densité est attribué une réluctivité magnétique. Comme ces densités ne sont pas continues, on les choisit dans l'espace $\\mathcal{L}^2$."
   ]
  },
  {
   "cell_type": "code",
   "execution_count": 4,
   "metadata": {},
   "outputs": [
    {
     "data": {
      "application/vnd.jupyter.widget-view+json": {
       "model_id": "e78f7f41ad6843a186edf3471060f342",
       "version_major": 2,
       "version_minor": 0
      },
      "text/plain": [
       "WebGuiWidget(value={'ngsolve_version': '6.2.2105-9-g5a835126f', 'mesh_dim': 2, 'order2d': 2, 'order3d': 2, 'dr…"
      ]
     },
     "metadata": {},
     "output_type": "display_data"
    },
    {
     "data": {
      "text/plain": [
       "BaseWebGuiScene"
      ]
     },
     "execution_count": 4,
     "metadata": {},
     "output_type": "execute_result"
    }
   ],
   "source": [
    "# Définition des variables d'optimisation\n",
    "\n",
    "\n",
    "fespace_rho = L2(mesh, order=0)\n",
    " \n",
    "rho = GridFunction(fespace_rho)\n",
    "rho.vec[:] = 0.5\n",
    "#rho.vec[:] = 0.2*np.random.randint(0,5,len(rho.vec[:].FV().NumPy()))\n",
    "\n",
    "bobine = mesh.MaterialCF({ \"secondaire_p\" : 1, \"secondaire_m\" : 1,\n",
    "                      \"primaire_p\" : 1, \"primaire_m\" : 1}, default=0)\n",
    "mask = GridFunction(fespace_rho)\n",
    "mask.Set(bobine)\n",
    "rho.vec.FV().NumPy()[mask.vec.FV().NumPy()[:]==1] = 0.5\n",
    "\n",
    "\n",
    "# Définition de la pénalisation\n",
    "\n",
    "p = 1\n",
    "nu0 = 1/(4e-7*3.14)\n",
    "nu_fer = nu0/1000\n",
    "\n",
    "def rho2nu(rho):\n",
    "    nu = copy(rho)\n",
    "    nu.vec[:] = nu0 + (nu_fer-nu0) * np.power(rho.vec.FV().NumPy(),p)\n",
    "    \n",
    "    bobine = mesh.MaterialCF({ \"secondaire_p\" : 1, \"secondaire_m\" : 1,\n",
    "                      \"primaire_p\" : 1, \"primaire_m\" : 1}, default=0)\n",
    "\n",
    "    mask = GridFunction(fespace_rho)\n",
    "    mask.Set(bobine)\n",
    "    nu.vec.FV().NumPy()[mask.vec.FV().NumPy()[:]==1] = 1/(4e-7*pi)\n",
    "    \n",
    "    return nu\n",
    "\n",
    "# Résolution du problème\n",
    "\n",
    "nu = rho2nu(rho)\n",
    "sol = solveDirect(nu)\n",
    "Draw(rho)"
   ]
  },
  {
   "cell_type": "markdown",
   "metadata": {},
   "source": [
    "# 4) Calcul de la fonction objectif et de sa *dérivée*\n",
    "\n",
    "Avec ce qui précède, on est capable de calculer l'état physique $a_z$ du système, ce qui permet de calculer la fonction objectif $\\mathcal{F}(a_z)$ de notre problème, qu'on souhaite minimiser. Dans notre cas, on souhaite maximiser le flux magnétique $\\phi$ qui traverse la bobine secondaire. Le flux magnétique traversant un segment délimité par deux points $A$ et $B$ est directement proportionnel à la différence de $a_z$ entre ces deux points. On peut alors en déduire la fonction objectif suivante :\n",
    "\n",
    "$$ \\mathcal{F}(a_z) = \\int_{s+} a_z  -   \\int_{s-} a_z $$\n",
    "\n",
    "Où $s+$ et $s-$ représentent les surfaces des conducteurs positifs et négatifs, respectivement."
   ]
  },
  {
   "cell_type": "code",
   "execution_count": 5,
   "metadata": {},
   "outputs": [
    {
     "name": "stdout",
     "output_type": "stream",
     "text": [
      "-7.263572267725331e-05\n"
     ]
    }
   ],
   "source": [
    "def objectiveFunction(az):\n",
    "    return -Integrate ( az, mesh.Materials(\"secondaire_m\")) + Integrate ( az, mesh.Materials(\"secondaire_p\"))\n",
    "\n",
    "print(objectiveFunction(sol))"
   ]
  },
  {
   "cell_type": "markdown",
   "metadata": {},
   "source": [
    "Il ne reste plus qu'à calculer la dérivée de cette fonction objectif par rapport à la fonction densité $\\rho$, qui joue le rôle de variable d'optimisation. La dépendance de $\\mathcal{F}$ par rapport à $\\rho$ se fait implicitement au travers de $a_z$. Le problème, c'est qu'on n'a pas d'expression de $a_z(\\rho)$.\n",
    "On utilise alors la méthode de l'adjoint : on introduit un langrangien $\\mathcal{L}$ qui s'écrit pour toutes variables indépendantes $\\tilde{\\rho}, \\tilde{a_z}, \\tilde{p} \\in \\mathcal{L}^2(\\Omega) \\times H^1_0(\\Omega) \\times H^1_0(\\Omega) $ :\n",
    "$$ \\mathcal{L}(\\tilde{\\rho}, \\tilde{a_z}, \\tilde{p}) = \\overbrace{\\mathcal{F}(\\tilde{a_z})}^{\\text{fonction objectif}} + \\underbrace{\\int_\\Omega \\overrightarrow{\\text{grad}} ~ \\tilde{p} . \\nu(\\tilde{\\rho})~ \\overrightarrow{\\text{grad}} ~ \\tilde{a_z} - \\int_\\Omega \\tilde{p} j_z}_{\\text{formulation variationnelle}} $$ \n",
    "\n",
    "Cela permet d'introduire un degré de liberté supplémentaire. En effet :\n",
    "\n",
    "$$ \\forall \\tilde{p} \\in H^1_0(\\Omega), \\quad \\mathcal{F}(a_z(\\rho)) = \\mathcal{L}(a_z, \\rho, \\tilde{p} )$$\n",
    "\n",
    "La règle de la chaîne permet d'affirmer que :\n",
    "\n",
    "$$ \\mathrm{d}_\\rho \\mathcal{F}(a_z(\\rho)) = \\mathrm{d}_\\rho \\mathcal{L}(a_z,\\rho,\\tilde{p}) = \\underbrace{\\partial_\\rho \\mathcal{L}(a_z,\\rho,\\tilde{p})}_{\\text{dérivée partielle, calculable}} + \\overbrace{\\partial_{a_z} \\mathcal{L}(a_z,\\rho,\\tilde{p})}^{\\text{dérivée partielle, calculable}} . \\underbrace{\\mathrm{d}_\\rho a_z}_{\\text{???}} $$\n",
    "\n",
    "On ne connaît pas le terme $\\mathrm{d}_\\rho a_z$ (*en toute rigueur, on ne sait même pas si il existe et donc si cette expression à un sens*). En revanche, on peut utiliser le degré de liberté supplémentaire $\\tilde{p}$ pour annuler le terme $\\partial_a \\mathcal{L}(a_z,\\rho,\\tilde{p})$, ce qui permet de résoudre formellement le problème.\n",
    "\n",
    " - La dérivée fonctionnelle par rapport à $\\tilde{p}$ donne la formulation variationnelle associée à l'état physique $a_z$, qui est annulée lorsque $\\tilde{a_z} = a_z$ :\n",
    "$$ \\forall \\phi \\in H^1_0(\\Omega), \\quad  \\langle \\partial_{\\tilde{p}} \\mathcal{L},\\phi\\rangle = \\int_\\Omega \\overrightarrow{\\text{grad}} ~ \\phi . \\nu(\\tilde{\\rho})~ \\overrightarrow{\\text{grad}} ~ \\tilde{a_z} - \\int_\\Omega \\phi j_z$$\n",
    "\n",
    "- La dérivée fonctionnelle par rapport à $\\tilde{a_z}$ donne la formulation variationnelle associée à l'état adjoint $p$, qui est annulée lorsque $\\tilde{p} = p$ :\n",
    "$$ \\forall \\phi \\in H^1_0(\\Omega), \\quad  \\langle \\partial_{\\tilde{a_z}} \\mathcal{L},\\phi \\rangle = \\underbrace{\\int_{s-} \\phi - \\int_{s+} \\phi}_{ \\partial_{\\tilde{a_z}} \\mathcal{F}} +\\int_\\Omega \\overrightarrow{\\text{grad}} ~ \\tilde{p} . \\nu(\\tilde{\\rho})~ \\overrightarrow{\\text{grad}} ~ \\phi  $$\n",
    "\n",
    "- La dérivée fonctionnelle par rapport à $\\tilde{\\rho}$ :\n",
    "$$ \\forall \\phi \\in H^1_0(\\Omega), \\quad  \\langle \\partial_{\\tilde{\\rho}} \\mathcal{L},\\phi \\rangle = \\int_\\Omega \\overrightarrow{\\text{grad}} ~ \\tilde{p} . \\partial_{\\tilde{\\rho}} \\nu(\\tilde{\\rho})~ \\overrightarrow{\\text{grad}} ~ \\tilde{a_z} \\phi $$\n",
    "\n",
    "On peut procéder ensuite à une identification $\\mathcal{L}^1$ pour trouver une *direction de descente* en $\\tilde{a_z} = a_z$, $\\tilde{\\rho} = \\rho$ et surtout $\\tilde{p} = p$. Autrement dit, il faut trouver $\\phi$ tel que $\\langle \\partial_{\\rho} \\mathcal{L},\\phi \\rangle < 0 $. Une garantie pour cela est de choisir : \n",
    "$$\\phi \\propto - \\overrightarrow{\\text{grad}} ~ p . \\partial_{\\rho} \\nu(\\rho)~ \\overrightarrow{\\text{grad}} ~ a_z$$"
   ]
  },
  {
   "cell_type": "code",
   "execution_count": 6,
   "metadata": {},
   "outputs": [
    {
     "data": {
      "application/vnd.jupyter.widget-view+json": {
       "model_id": "d14b02be0ecd46029d2499590f6a739b",
       "version_major": 2,
       "version_minor": 0
      },
      "text/plain": [
       "WebGuiWidget(value={'ngsolve_version': '6.2.2105-9-g5a835126f', 'mesh_dim': 2, 'order2d': 2, 'order3d': 2, 'dr…"
      ]
     },
     "metadata": {},
     "output_type": "display_data"
    },
    {
     "data": {
      "text/plain": [
       "BaseWebGuiScene"
      ]
     },
     "execution_count": 6,
     "metadata": {},
     "output_type": "execute_result"
    }
   ],
   "source": [
    "def solveAdjoint(nu):\n",
    "    # 1) définition de l'espace fonctionnel\n",
    "    \n",
    "    fespace_H1 = H1(mesh, order=1, dirichlet=\"right|top|left|bot\")\n",
    "    p = fespace_H1.TrialFunction()\n",
    "    phi = fespace_H1.TestFunction()\n",
    "\n",
    "    # 2) Définition de la forme linéaire\n",
    "    \n",
    "    l = LinearForm(fespace_H1)\n",
    "    l += -phi*dx(\"secondaire_m\") + phi*dx(\"secondaire_p\")\n",
    "    \n",
    "\n",
    "    # 2) Définition de la forme bilinéaire\n",
    "    \n",
    "    K = BilinearForm(fespace_H1, symmetric=True)\n",
    "    K += grad(p)*nu*grad(phi)*dx\n",
    "    \n",
    "    # 3) Assemblage -> on sort du monde continu pour discrétiser et résoudre !\n",
    "    \n",
    "    l.Assemble()\n",
    "    K.Assemble()\n",
    "    \n",
    "    # 4) Résolution\n",
    "    \n",
    "    adjoint_state = GridFunction(fespace_H1)  # solution\n",
    "    adjoint_state.vec.data =     K.mat.Inverse(inverse=\"sparsecholesky\",\n",
    "                                              freedofs=fespace_H1.FreeDofs()) * l.vec\n",
    "    \n",
    "    return adjoint_state\n",
    "\n",
    "adjoint = solveAdjoint(nu)\n",
    "Draw(adjoint)"
   ]
  },
  {
   "cell_type": "code",
   "execution_count": 7,
   "metadata": {},
   "outputs": [],
   "source": [
    "def dnudrho(rho):\n",
    "    dnu = copy(rho)\n",
    "    dnu.vec[:] = nu0 + (nu_fer-nu0) * p * np.power(rho.vec.FV().NumPy(),p-1)\n",
    "    \n",
    "    bobine = mesh.MaterialCF({ \"secondaire_p\" : 1, \"secondaire_m\" : 1,\n",
    "                      \"primaire_p\" : 1, \"primaire_m\" : 1}, default=0)\n",
    "\n",
    "    mask = GridFunction(fespace_rho)\n",
    "    mask.Set(bobine)\n",
    "    dnu.vec.FV().NumPy()[mask.vec.FV().NumPy()[:]==1] = 0\n",
    "    \n",
    "    return dnu\n",
    "\n",
    "def descentDirection(direct_state,adjoint_state,rho):\n",
    "    return - grad(adjoint_state) * dnudrho(rho) * grad(direct_state)"
   ]
  },
  {
   "cell_type": "markdown",
   "metadata": {},
   "source": [
    "# 5) Boucle d'optimisation \n",
    "Maintenant qu'on sait calculer la fonction objectif et une direction de descente, il n'y a plus qu'à les incorporer dans un algorithme d'optimisation."
   ]
  },
  {
   "cell_type": "code",
   "execution_count": 8,
   "metadata": {},
   "outputs": [
    {
     "name": "stdout",
     "output_type": "stream",
     "text": [
      "-7.263572267725339e-05 - step : 0.1\n",
      "-0.00013297542641240508 - step : 0.1\n",
      "-0.00029628503211566107 - step : 0.12\n",
      "-0.0010684202110535887 - step : 0.144\n",
      "-0.27575367487328833 - step : 0.17279999999999998\n",
      "-0.28068361480526666 - step : 0.20735999999999996\n",
      "-0.2847266682956785 - step : 0.24883199999999994\n",
      "-0.28483417661776367 - step : 0.29859839999999993\n",
      "-0.28484606784600525 - step : 0.3583180799999999\n",
      "-0.28504075967516007 - step : 0.4299816959999999\n",
      "-0.2850407596751605 - step : 0.5159780351999999\n",
      "-0.28504075967516634 - step : 0.6191736422399998\n",
      "-0.2850407596751666 - step : 0.7430083706879997\n",
      "-0.2850407596751603 - step : 0.8916100448255997\n",
      "-0.2850407596751357 - step : 0.44580502241279985\n",
      "-0.285040759675185 - step : 0.22290251120639992\n",
      "-0.2850407596752528 - step : 0.2674830134476799\n",
      "-0.2850407596751607 - step : 0.3209796161372159\n",
      "-0.2850407596751789 - step : 0.16048980806860794\n",
      "-0.2850407596751602 - step : 0.19258776968232952\n",
      "-0.28504075967513615 - step : 0.09629388484116476\n",
      "-0.28504075967518544 - step : 0.04814694242058238\n",
      "-0.28504075967518483 - step : 0.05777633090469885\n",
      "-0.28504075967516684 - step : 0.028888165452349426\n",
      "-0.28504075967522186 - step : 0.014444082726174713\n",
      "-0.28504075967519094 - step : 0.017332899271409654\n",
      "-0.28504075967520337 - step : 0.008666449635704827\n",
      "-0.2850407596752645 - step : 0.010399739562845792\n",
      "-0.285040759675148 - step : 0.01247968747541495\n",
      "-0.2850407596751727 - step : 0.006239843737707475\n",
      "-0.2850407596752771 - step : 0.007487812485248969\n",
      "-0.28504075967527714 - step : 0.008985374982298762\n",
      "-0.2850407596751236 - step : 0.010782449978758515\n",
      "-0.285040759675136 - step : 0.005391224989379257\n",
      "-0.2850407596751848 - step : 0.006469469987255109\n",
      "-0.2850407596751358 - step : 0.00776336398470613\n",
      "-0.28504075967520964 - step : 0.003881681992353065\n",
      "-0.2850407596751659 - step : 0.004658018390823678\n",
      "-0.28504075967514864 - step : 0.002329009195411839\n",
      "-0.2850407596751483 - step : 0.0011645045977059195\n",
      "-0.2850407596752461 - step : 0.0005822522988529597\n",
      "-0.2850407596751852 - step : 0.0006987027586235517\n",
      "-0.2850407596751483 - step : 0.00034935137931177586\n",
      "-0.28504075967513615 - step : 0.00017467568965588793\n"
     ]
    }
   ],
   "source": [
    "objFuncList = []\n",
    "rhoList = []\n",
    "descentList = []\n",
    "step = 0.1\n",
    "descent = GridFunction(fespace_rho)\n",
    "\n",
    "for i in range(100):\n",
    "    \n",
    "    # Calculs état direct, adjoint et direction de descente\n",
    "    nu = rho2nu(rho)\n",
    "    direct_state = solveDirect(nu)\n",
    "    adjoint_state = solveAdjoint(nu)\n",
    "    descent.Set(descentDirection(direct_state,adjoint_state,rho))\n",
    "    descent.vec[:] = np.sign(descent.vec[:].FV().NumPy())\n",
    "    \n",
    "    rhoList.append(copy(rho))\n",
    "    objFuncList.append(objectiveFunction(direct_state))\n",
    "    descentList.append(copy(descent))\n",
    "    \n",
    "    print(f'{objFuncList[-1]} - step : {step}')\n",
    "    \n",
    "    if i>0 and objFuncList[-1]< objFuncList[-2]:\n",
    "        step = step*1.2\n",
    "    elif i>0:\n",
    "        step = step/2\n",
    "      \n",
    "    rho.Set(rhoList[i] + descentList[i]*step)\n",
    "    rho.vec[:].FV().NumPy()[rho.vec[:].FV().NumPy()<0]=0\n",
    "    rho.vec[:].FV().NumPy()[rho.vec[:].FV().NumPy()>1]=1\n",
    "    \n",
    "    if np.isnan(np.sum(rho.vec[:].FV().NumPy())):\n",
    "        break\n",
    "    if step < 1e-4:\n",
    "        break"
   ]
  },
  {
   "cell_type": "code",
   "execution_count": 9,
   "metadata": {},
   "outputs": [
    {
     "data": {
      "application/vnd.jupyter.widget-view+json": {
       "model_id": "7cc3b8606a2a4405b7d6e7af1b7ed007",
       "version_major": 2,
       "version_minor": 0
      },
      "text/plain": [
       "WebGuiWidget(value={'ngsolve_version': '6.2.2105-9-g5a835126f', 'mesh_dim': 2, 'order2d': 2, 'order3d': 2, 'dr…"
      ]
     },
     "metadata": {},
     "output_type": "display_data"
    },
    {
     "data": {
      "text/plain": [
       "BaseWebGuiScene"
      ]
     },
     "execution_count": 9,
     "metadata": {},
     "output_type": "execute_result"
    }
   ],
   "source": [
    "Draw(rho,mesh)"
   ]
  },
  {
   "cell_type": "code",
   "execution_count": 10,
   "metadata": {},
   "outputs": [
    {
     "data": {
      "text/plain": [
       "[<matplotlib.lines.Line2D at 0x7ff004188520>]"
      ]
     },
     "execution_count": 10,
     "metadata": {},
     "output_type": "execute_result"
    },
    {
     "data": {
      "image/png": "[encoded data removed]",
      "text/plain": [
       "<Figure size 432x288 with 1 Axes>"
      ]
     },
     "metadata": {
      "needs_background": "light"
     },
     "output_type": "display_data"
    }
   ],
   "source": [
    "plt.plot(objFuncList)"
   ]
  },
  {
   "cell_type": "code",
   "execution_count": 11,
   "metadata": {},
   "outputs": [
    {
     "data": {
      "application/vnd.jupyter.widget-view+json": {
       "model_id": "0d79f24e16c141a98962e56828716b9f",
       "version_major": 2,
       "version_minor": 0
      },
      "text/plain": [
       "WebGuiWidget(value={'ngsolve_version': '6.2.2105-9-g5a835126f', 'mesh_dim': 2, 'order2d': 2, 'order3d': 2, 'dr…"
      ]
     },
     "metadata": {},
     "output_type": "display_data"
    },
    {
     "data": {
      "text/plain": [
       "BaseWebGuiScene"
      ]
     },
     "execution_count": 11,
     "metadata": {},
     "output_type": "execute_result"
    }
   ],
   "source": [
    "def a2b(a):\n",
    "    b_vec = GridFunction(L2(mesh, dim = 2))\n",
    "    b_vec.Set(grad(direct_state))\n",
    "    rot = np.array([[0,1],[-1,0]])\n",
    "    n = len(b_vec.vec.FV().NumPy())\n",
    "    vec = np.reshape(b_vec.vec.FV().NumPy(),(int(n/2),2)).transpose()\n",
    "    b = (rot @ vec).transpose()\n",
    "    b_vec.vec.FV().NumPy()[:] = np.reshape(b[:],(len(b)*2))\n",
    "    return b_vec\n",
    "\n",
    "Draw(a2b(direct_state),mesh,vectors = { \"grid_size\":20})"
   ]
  }
 ],
 "metadata": {
  "kernelspec": {
   "display_name": "Python 3 (ipykernel)",
   "language": "python",
   "name": "python3"
  },
  "language_info": {
   "codemirror_mode": {
    "name": "ipython",
    "version": 3
   },
   "file_extension": ".py",
   "mimetype": "text/x-python",
   "name": "python",
   "nbconvert_exporter": "python",
   "pygments_lexer": "ipython3",
   "version": "3.8.10"
  },
  "livereveal": {
   "autolaunch": true
  },
  "toc": {
   "base_numbering": 1,
   "nav_menu": {},
   "number_sections": true,
   "sideBar": true,
   "skip_h1_title": false,
   "title_cell": "Table of Contents",
   "title_sidebar": "Contents",
   "toc_cell": false,
   "toc_position": {},
   "toc_section_display": true,
   "toc_window_display": false
  }
 },
 "nbformat": 4,
 "nbformat_minor": 4
}
