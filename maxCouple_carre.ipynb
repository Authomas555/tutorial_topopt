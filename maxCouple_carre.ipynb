{
 "cells": [
  {
   "cell_type": "markdown",
   "metadata": {},
   "source": [
    "# Maximisation couple moyen\n",
    "\n",
    "Ce notebook propose d'optimiser le rotor d'une machine synchro-réluctante sans aimant à une paire de pôle en vue de maximiser le couple moyen.\n",
    "Dans ce cas particulier, le couple moyen est directement relié à la différence de perméance magnétique du rotor dans l'axe direct d et l'axe en quadrature q.\n",
    "\n",
    "Le problème étudié est donc la maximisation de cette différence de perméance via la différence de compliance magnétique. Il est possible de démontrer que ce problème est mal posé."
   ]
  },
  {
   "cell_type": "code",
   "execution_count": 1,
   "metadata": {},
   "outputs": [
    {
     "name": "stdout",
     "output_type": "stream",
     "text": [
      "importing NGSolve-6.2.2105-9-g5a835126f\n"
     ]
    }
   ],
   "source": [
    "from ngsolve import *\n",
    "from ngsolve.webgui import Draw\n",
    "from netgen.geom2d import SplineGeometry\n",
    "#from netgen.geom2d import unit_square\n",
    "import copy\n",
    "from numpy.random import randint\n",
    "import numpy as np\n",
    "import matplotlib.pyplot as plt"
   ]
  },
  {
   "cell_type": "markdown",
   "metadata": {},
   "source": [
    "## 1) Définition du maillage\n",
    "\n",
    "La première étape consiste à définir une géométrie (disque), ainsi que la finesse de maillage associée."
   ]
  },
  {
   "cell_type": "code",
   "execution_count": 2,
   "metadata": {},
   "outputs": [],
   "source": [
    "#h = 0.1; # ne pas prendre moins de 1/50\n",
    "\n",
    "#mesh = Mesh(unit_square.GenerateMesh(maxh=h))\n",
    "#Draw (mesh)"
   ]
  },
  {
   "cell_type": "code",
   "execution_count": 3,
   "metadata": {},
   "outputs": [
    {
     "data": {
      "application/vnd.jupyter.widget-view+json": {
       "model_id": "35af8ae75ce342428669aa0f90dc3473",
       "version_major": 2,
       "version_minor": 0
      },
      "text/plain": [
       "WebGuiWidget(value={'ngsolve_version': '6.2.2105-9-g5a835126f', 'mesh_dim': 2, 'order2d': 1, 'order3d': 1, 'dr…"
      ]
     },
     "metadata": {},
     "output_type": "display_data"
    },
    {
     "data": {
      "text/plain": [
       "BaseWebGuiScene"
      ]
     },
     "execution_count": 3,
     "metadata": {},
     "output_type": "execute_result"
    }
   ],
   "source": [
    "geo = SplineGeometry()\n",
    "\n",
    "R = 1;\n",
    "h = R/5; # ne pas prendre moins de R/50\n",
    "\n",
    "pnts = [(R,-R),(-R,-R),(-R,R),(R,R)]\n",
    "\n",
    "p = [geo.AppendPoint(*pnt) for pnt in pnts]\n",
    "\n",
    "\n",
    "geo.Append([\"line\",0,1],leftdomain=0,rightdomain=1,bc=\"bottom\")\n",
    "geo.Append([\"line\",1,2],leftdomain=0,rightdomain=1,bc=\"left\")\n",
    "geo.Append([\"line\",2,3],leftdomain=0,rightdomain=1,bc=\"up\")\n",
    "geo.Append([\"line\",3,0],leftdomain=0,rightdomain=1,bc=\"right\")\n",
    "\n",
    "geo.SetMaterial(1, \"in\")\n",
    "\n",
    "ngmesh = geo.GenerateMesh(maxh=h)\n",
    "mesh = Mesh(ngmesh)\n",
    "Draw (mesh)"
   ]
  },
  {
   "cell_type": "markdown",
   "metadata": {},
   "source": [
    "## 2) Définition des problèmes éléments finis\n",
    "\n",
    "L'objectif est ici de maximiser la différence de compliance magnétique pour deux chargement distincts. On va résoudre le problème magnétostatique dual ; pour cela, remarquons qu'en l'absence de termes sources:\n",
    "\n",
    "$$ \\overrightarrow{\\text{rot}} ~ \\overrightarrow{h} = 0 $$\n",
    "\n",
    "On pose donc $\\phi$ un potentiel scalaire tel que $\\overrightarrow{h} = \\overrightarrow{\\text{grad}} ~ \\phi$, qui vérifie donc dans $\\Omega$:\n",
    "$$ \\text{div}( \\mu ~\\overrightarrow{\\text{grad}} ~ \\phi ) = 0 $$\n",
    "\n",
    "$\\phi$ est un champ scalaire qu'on va supposer appartenant à $H^1$. Les conditions aux bords sont de Neumann. La solution est unique à une constante près. Les deux problèmes à résoudre s'écrivent donc :\n",
    "\n",
    "$$\\left \\{\n",
    "\\begin{array}{l}\n",
    "     \\text{div}( \\mu ~\\overrightarrow{\\text{grad}} ~ \\phi ) = 0 \\\\\n",
    "     \\frac{\\partial \\phi}{\\partial n} = \\Phi ~ \\text{sur} ~ \\Gamma_1 \\bigcup \\Gamma_2 \\\\\n",
    "     \\frac{\\partial \\phi}{\\partial n} = - \\Phi ~ \\text{sur} ~ \\Gamma_3 \\bigcup \\Gamma_4 \n",
    "\\end{array}\n",
    "\\right. $$\n",
    "\n",
    "$$\\left \\{\n",
    "\\begin{array}{l}\n",
    "     \\text{div}( \\mu ~\\overrightarrow{\\text{grad}} ~ \\phi ) = 0 \\\\\n",
    "     \\frac{\\partial \\phi}{\\partial n} = \\Phi ~ \\text{sur} ~ \\Gamma_2 \\bigcup \\Gamma_3 \\\\\n",
    "     \\frac{\\partial \\phi}{\\partial n} = - \\Phi ~ \\text{sur} ~ \\Gamma_1 \\bigcup \\Gamma_4 \n",
    "\\end{array}\n",
    "\\right. $$\n"
   ]
  },
  {
   "cell_type": "markdown",
   "metadata": {},
   "source": [
    "Sous forme faible, ce problème s'écrit donc :\n",
    "\n",
    "$$\\forall \\psi \\in H^1, \\underbrace{\\int_{\\Omega} ~\\overrightarrow{\\text{grad}} ~ \\psi \\cdot  \\mu ~\\overrightarrow{\\text{grad}} ~ \\phi}_{\\text{forme bilinéaire} } = \\underbrace{\\int_{\\Gamma_+} \\psi \\Phi - \\int_{\\Gamma_-} \\psi \\Phi}_{\\text{forme linéaire}} $$\n",
    "\n",
    "Par ailleurs, on suppose que $\\mu$ est constante par morceau."
   ]
  },
  {
   "cell_type": "code",
   "execution_count": 4,
   "metadata": {},
   "outputs": [],
   "source": [
    "PHI = 1;\n",
    "\n",
    "def solvePb(mu):\n",
    "    fespace_H1 = H1(mesh, order=1)\n",
    "    fespace_H1.FreeDofs()[0] = False\n",
    "    phi = fespace_H1.TrialFunction()\n",
    "    psi = fespace_H1.TestFunction()\n",
    "    K = BilinearForm(fespace_H1, symmetric=True)\n",
    "    K +=  grad(psi)*mu*grad(phi)*dx\n",
    "\n",
    "    n= specialcf.normal(mesh.dim);\n",
    "\n",
    "    l1 = LinearForm(fespace_H1)\n",
    "    l1 += -psi*PHI*ds(definedon=mesh.Boundaries(\"bottom\"))\n",
    "    l1 += psi*PHI*ds(definedon=mesh.Boundaries(\"up\"))\n",
    "\n",
    "    l2 = LinearForm(fespace_H1)\n",
    "    l2 += -psi*PHI*ds(definedon=mesh.Boundaries(\"left\"))\n",
    "    l2 += psi*PHI*ds(definedon=mesh.Boundaries(\"right\"))\n",
    "    \n",
    "    K.Assemble()\n",
    "    l1.Assemble()\n",
    "    l2.Assemble()\n",
    "    \n",
    "    phi1 = GridFunction(fespace_H1)  # solution\n",
    "    phi1.vec.data =     K.mat.Inverse(inverse=\"sparsecholesky\") * l1.vec\n",
    "    phi2 = GridFunction(fespace_H1)  # solution\n",
    "    phi2.vec.data =     K.mat.Inverse(inverse=\"sparsecholesky\") * l2.vec\n",
    "    \n",
    "    return(phi1, phi2)\n",
    "    \n",
    "fespace_mu = L2(mesh, order=0)    \n",
    "mu = GridFunction(fespace_mu)\n",
    "s = (randint(3, size=len(mu.vec[:].FV()))+1)-2\n",
    "mu.vec[:] = 4e-7*3.14*1.5 #(2+s[:])"
   ]
  },
  {
   "cell_type": "code",
   "execution_count": 5,
   "metadata": {},
   "outputs": [],
   "source": [
    "phi1, phi2 = solvePb(mu)"
   ]
  },
  {
   "cell_type": "code",
   "execution_count": 6,
   "metadata": {},
   "outputs": [],
   "source": [
    "#Draw (grad(phi2), mesh,vectors = { \"grid_size\":20});\n",
    "#Draw (InnerProduct(grad(phi1),grad(phi1))-InnerProduct(grad(phi2),grad(phi2)), mesh);"
   ]
  },
  {
   "cell_type": "code",
   "execution_count": 7,
   "metadata": {},
   "outputs": [
    {
     "data": {
      "application/vnd.jupyter.widget-view+json": {
       "model_id": "3e0a881fe75a476e94c1c147de39cb1a",
       "version_major": 2,
       "version_minor": 0
      },
      "text/plain": [
       "WebGuiWidget(value={'ngsolve_version': '6.2.2105-9-g5a835126f', 'mesh_dim': 2, 'order2d': 2, 'order3d': 2, 'dr…"
      ]
     },
     "metadata": {},
     "output_type": "display_data"
    }
   ],
   "source": [
    "Draw (phi2, mesh);"
   ]
  },
  {
   "cell_type": "markdown",
   "metadata": {},
   "source": [
    "## 3) Optimisation\n",
    "\n",
    "Le problème est auto-adjoint. Ainsi, l'adjoint s'écrit $\\psi = -\\phi$ et l'identification $\\mathcal{L}^2$ du gradient par rapport à $\\mu$ s'écrit:\n",
    "$$\\partial_\\mu \\mathcal{L} = -|\\nabla \\phi|^2 $$"
   ]
  },
  {
   "cell_type": "code",
   "execution_count": 8,
   "metadata": {},
   "outputs": [],
   "source": [
    "def gradient(phi1,phi2):\n",
    "    return(-grad(phi1)*grad(phi1) + grad(phi2)*grad(phi2))\n",
    "\n",
    "def objective(phi1,phi2,mu):\n",
    "    return(Integrate(grad(phi1)*mu* grad(phi1) -  grad(phi2)*mu* grad(phi2), mesh))\n"
   ]
  },
  {
   "cell_type": "code",
   "execution_count": 9,
   "metadata": {
    "scrolled": true
   },
   "outputs": [
    {
     "name": "stdout",
     "output_type": "stream",
     "text": [
      "-5.0642508315803426e-09 - normalized step : 0.09999999999999999\n",
      "3331.411669954931 - normalized step : 0.09999999999999999\n",
      "-34158.64367177563 - normalized step : 0.09999999999999999\n",
      "-92678.49850198603 - normalized step : 0.09999999999999999\n",
      "-151496.77524691226 - normalized step : 0.09999999999999999\n",
      "-211586.2058428725 - normalized step : 0.09999999999999999\n",
      "-257516.32608099567 - normalized step : 0.09999999999999999\n",
      "-301054.2431805565 - normalized step : 0.09999999999999999\n",
      "-333474.56371144875 - normalized step : 0.09999999999999999\n",
      "-357688.5294704222 - normalized step : 0.09999999999999999\n",
      "-371720.9178399197 - normalized step : 0.09999999999999999\n",
      "-375901.32571316854 - normalized step : 0.09999999999999999\n",
      "-378180.65927703853 - normalized step : 0.09999999999999999\n",
      "-379640.9549131592 - normalized step : 0.09999999999999999\n",
      "-380661.246532979 - normalized step : 0.09999999999999999\n",
      "-381613.36645398143 - normalized step : 0.09999999999999999\n",
      "-382667.4395086492 - normalized step : 0.09999999999999999\n",
      "-383548.7473077972 - normalized step : 0.09999999999999999\n",
      "-384676.07697972876 - normalized step : 0.09999999999999999\n",
      "-385582.5447749587 - normalized step : 0.09999999999999999\n",
      "-386366.4988369431 - normalized step : 0.09999999999999999\n",
      "-386919.79398359393 - normalized step : 0.09999999999999999\n",
      "-387240.6898784514 - normalized step : 0.09999999999999999\n",
      "-387668.3049570639 - normalized step : 0.09999999999999999\n",
      "-388263.88674719207 - normalized step : 0.09999999999999999\n",
      "-389063.6201904281 - normalized step : 0.09999999999999999\n",
      "-390169.1013534961 - normalized step : 0.09999999999999999\n",
      "-390164.63444745337 - normalized step : 0.09999999999999999\n",
      "-390169.1013534956 - normalized step : 0.09999999999999999\n",
      "-390164.63444745715 - normalized step : 0.09999999999999999\n",
      "-390169.10135349515 - normalized step : 0.09999999999999999\n",
      "-390164.6344474551 - normalized step : 0.09999999999999999\n",
      "-390169.1013534956 - normalized step : 0.09999999999999999\n",
      "-390164.63444745465 - normalized step : 0.09999999999999999\n",
      "-390169.1013534947 - normalized step : 0.09999999999999999\n",
      "-390164.6344474556 - normalized step : 0.09999999999999999\n",
      "-390169.1013534959 - normalized step : 0.09999999999999999\n",
      "-390164.634447453 - normalized step : 0.09999999999999999\n",
      "-390169.10135349625 - normalized step : 0.09999999999999999\n",
      "-390164.634447456 - normalized step : 0.09999999999999999\n",
      "-390169.1013534941 - normalized step : 0.09999999999999999\n",
      "-390164.6344474552 - normalized step : 0.09999999999999999\n",
      "-390169.10135349387 - normalized step : 0.09999999999999999\n",
      "-390164.6344474535 - normalized step : 0.09999999999999999\n",
      "-390169.1013534919 - normalized step : 0.09999999999999999\n",
      "-390164.6344474563 - normalized step : 0.09999999999999999\n",
      "-390169.1013534963 - normalized step : 0.09999999999999999\n",
      "-390164.63444743346 - normalized step : 0.09999999999999999\n",
      "-390169.1013534945 - normalized step : 0.09999999999999999\n",
      "-390164.63444745494 - normalized step : 0.09999999999999999\n",
      "-390169.1013534951 - normalized step : 0.09999999999999999\n",
      "-390164.6344474531 - normalized step : 0.09999999999999999\n",
      "-390169.1013534947 - normalized step : 0.09999999999999999\n",
      "-390164.6344474573 - normalized step : 0.09999999999999999\n",
      "-390169.1013534938 - normalized step : 0.09999999999999999\n",
      "-390164.63444745564 - normalized step : 0.09999999999999999\n",
      "-390169.1013534952 - normalized step : 0.09999999999999999\n",
      "-390164.63444745634 - normalized step : 0.09999999999999999\n",
      "-390169.10135349433 - normalized step : 0.09999999999999999\n",
      "-390164.63444745535 - normalized step : 0.09999999999999999\n",
      "-390169.10135349457 - normalized step : 0.09999999999999999\n",
      "-390164.634447456 - normalized step : 0.09999999999999999\n",
      "-390169.1013534959 - normalized step : 0.09999999999999999\n",
      "-390164.6344474548 - normalized step : 0.09999999999999999\n",
      "-390169.1013534941 - normalized step : 0.09999999999999999\n",
      "-390164.63444744755 - normalized step : 0.09999999999999999\n",
      "-390169.10135349625 - normalized step : 0.09999999999999999\n",
      "-390164.63444745325 - normalized step : 0.09999999999999999\n",
      "-390169.10135349544 - normalized step : 0.09999999999999999\n",
      "-390164.6344474556 - normalized step : 0.09999999999999999\n"
     ]
    }
   ],
   "source": [
    "J=[]\n",
    "mu0 = 4e-7*3.14\n",
    "mu_max = 3* mu0\n",
    "step = (mu_max-mu0)/10\n",
    "g = GridFunction(fespace_mu)\n",
    "G=[]\n",
    "MU=[]\n",
    "for i in range(70):\n",
    "    phi1, phi2 = solvePb(mu)\n",
    "    g.Set(gradient(phi1,phi2))\n",
    "    g.vec[:]= np.sign(g.vec[:].FV().NumPy())\n",
    "    J.append(objective(phi1,phi2,mu))\n",
    "    MU.append(copy.copy(mu))\n",
    "    G.append(copy.copy(g))\n",
    "    print(f'{J[-1]} - normalized step : {step/(mu_max-mu0)}')\n",
    "    \n",
    "    #if i>0 and J[-1]< J[-2]:\n",
    "        #step = step*1.2\n",
    "    #elif i>0:\n",
    "        #step = step/2\n",
    "    mu.Set(MU[i] - G[i]*step)\n",
    "    mu.vec[:].FV().NumPy()[mu.vec[:].FV().NumPy()<mu0]=mu0\n",
    "    mu.vec[:].FV().NumPy()[mu.vec[:].FV().NumPy()>mu_max]=mu_max"
   ]
  },
  {
   "cell_type": "code",
   "execution_count": 10,
   "metadata": {
    "scrolled": true
   },
   "outputs": [
    {
     "data": {
      "text/plain": [
       "[<matplotlib.lines.Line2D at 0x7f9d088435b0>]"
      ]
     },
     "execution_count": 10,
     "metadata": {},
     "output_type": "execute_result"
    },
    {
     "data": {
      "image/png": "[encoded data removed]",
      "text/plain": [
       "<Figure size 432x288 with 1 Axes>"
      ]
     },
     "metadata": {
      "needs_background": "light"
     },
     "output_type": "display_data"
    }
   ],
   "source": [
    "g.vec.FV().NumPy()\n",
    "plt.plot(J)\n",
    "#Draw(MU[0],mesh,min=mu0,max=mu_max)"
   ]
  },
  {
   "cell_type": "code",
   "execution_count": 11,
   "metadata": {},
   "outputs": [
    {
     "data": {
      "application/vnd.jupyter.widget-view+json": {
       "model_id": "14baaa688cff4eb8b835b66bf65f2643",
       "version_major": 2,
       "version_minor": 0
      },
      "text/plain": [
       "WebGuiWidget(value={'ngsolve_version': '6.2.2105-9-g5a835126f', 'mesh_dim': 2, 'order2d': 2, 'order3d': 2, 'dr…"
      ]
     },
     "metadata": {},
     "output_type": "display_data"
    },
    {
     "data": {
      "text/plain": [
       "BaseWebGuiScene"
      ]
     },
     "execution_count": 11,
     "metadata": {},
     "output_type": "execute_result"
    }
   ],
   "source": [
    "Draw(MU[15],mesh)"
   ]
  },
  {
   "cell_type": "code",
   "execution_count": 12,
   "metadata": {},
   "outputs": [
    {
     "data": {
      "application/vnd.jupyter.widget-view+json": {
       "model_id": "46cdba554a424817934e2d69cdbd93b7",
       "version_major": 2,
       "version_minor": 0
      },
      "text/plain": [
       "WebGuiWidget(value={'ngsolve_version': '6.2.2105-9-g5a835126f', 'mesh_dim': 2, 'order2d': 2, 'order3d': 2, 'dr…"
      ]
     },
     "metadata": {},
     "output_type": "display_data"
    },
    {
     "data": {
      "text/plain": [
       "BaseWebGuiScene"
      ]
     },
     "execution_count": 12,
     "metadata": {},
     "output_type": "execute_result"
    }
   ],
   "source": [
    "Draw(10*mu+g,mesh)"
   ]
  },
  {
   "cell_type": "code",
   "execution_count": 13,
   "metadata": {},
   "outputs": [
    {
     "data": {
      "application/vnd.jupyter.widget-view+json": {
       "model_id": "3a1654eb61f942e3b2dbb38dbfb7b273",
       "version_major": 2,
       "version_minor": 0
      },
      "text/plain": [
       "WebGuiWidget(value={'ngsolve_version': '6.2.2105-9-g5a835126f', 'mesh_dim': 2, 'order2d': 2, 'order3d': 2, 'dr…"
      ]
     },
     "metadata": {},
     "output_type": "display_data"
    },
    {
     "data": {
      "text/plain": [
       "BaseWebGuiScene"
      ]
     },
     "execution_count": 13,
     "metadata": {},
     "output_type": "execute_result"
    }
   ],
   "source": [
    "Draw(InnerProduct(-grad(phi1),grad(phi1))+InnerProduct(grad(phi2),grad(phi2)),mesh)"
   ]
  },
  {
   "cell_type": "code",
   "execution_count": 14,
   "metadata": {},
   "outputs": [
    {
     "name": "stdout",
     "output_type": "stream",
     "text": [
      "Help on function Draw in module ngsolve.webgui:\n",
      "\n",
      "Draw(mesh_or_func, mesh_or_none=None, name='function', order=2, min=None, max=None, draw_vol=True, draw_surf=True, autoscale=True, deformation=False, interpolate_multidim=False, animate=False, clipping=None, vectors=None, js_code=None, eval_function=None, eval=None, filename='')\n",
      "\n"
     ]
    }
   ],
   "source": [
    "help(Draw)"
   ]
  },
  {
   "cell_type": "code",
   "execution_count": 15,
   "metadata": {},
   "outputs": [
    {
     "data": {
      "application/vnd.jupyter.widget-view+json": {
       "model_id": "651301fd691b4456ab49c4c9199cb3d8",
       "version_major": 2,
       "version_minor": 0
      },
      "text/plain": [
       "WebGuiWidget(value={'ngsolve_version': '6.2.2105-9-g5a835126f', 'mesh_dim': 2, 'order2d': 2, 'order3d': 2, 'dr…"
      ]
     },
     "metadata": {},
     "output_type": "display_data"
    }
   ],
   "source": [
    "phi1, phi2 = solvePb(mu)\n",
    "g = gradient(phi1,phi2)\n",
    "Draw(mu,mesh)\n",
    "a = mu+g"
   ]
  },
  {
   "cell_type": "code",
   "execution_count": 16,
   "metadata": {},
   "outputs": [
    {
     "data": {
      "application/vnd.jupyter.widget-view+json": {
       "model_id": "9a6513b744bc44f4b4afe4ec3b2407d9",
       "version_major": 2,
       "version_minor": 0
      },
      "text/plain": [
       "WebGuiWidget(value={'ngsolve_version': '6.2.2105-9-g5a835126f', 'mesh_dim': 2, 'order2d': 2, 'order3d': 2, 'dr…"
      ]
     },
     "metadata": {},
     "output_type": "display_data"
    },
    {
     "data": {
      "text/plain": [
       "BaseWebGuiScene"
      ]
     },
     "execution_count": 16,
     "metadata": {},
     "output_type": "execute_result"
    }
   ],
   "source": [
    "Draw(gradient(phi1,phi2),mesh)"
   ]
  },
  {
   "cell_type": "code",
   "execution_count": 17,
   "metadata": {},
   "outputs": [
    {
     "ename": "TypeError",
     "evalue": "Integrate(): incompatible function arguments. The following argument types are supported:\n    1. (cf: ngsolve.fem.CoefficientFunction, mesh: Union[ngsolve.comp.Mesh, ngsolve.comp.Region], VOL_or_BND: ngsolve.comp.VorB = <VorB.VOL: 0>, order: int = 5, definedon: ngsolve.comp.Region = None, region_wise: bool = False, element_wise: bool = False) -> object\n    2. (igls: ngsolve.comp.SumOfIntegrals, mesh: ngsolve.comp.Mesh, element_wise: bool = False) -> object\n\nInvoked with: <ngsolve.comp.SumOfIntegrals object at 0x7f9d087ab830>",
     "output_type": "error",
     "traceback": [
      "\u001b[0;31m---------------------------------------------------------------------------\u001b[0m",
      "\u001b[0;31mTypeError\u001b[0m                                 Traceback (most recent call last)",
      "\u001b[0;32m/tmp/ipykernel_50000/1375631795.py\u001b[0m in \u001b[0;36m<module>\u001b[0;34m\u001b[0m\n\u001b[0;32m----> 1\u001b[0;31m \u001b[0mIntegrate\u001b[0m\u001b[0;34m(\u001b[0m\u001b[0;34m(\u001b[0m\u001b[0mgrad\u001b[0m\u001b[0;34m(\u001b[0m\u001b[0mphi1\u001b[0m\u001b[0;34m)\u001b[0m\u001b[0;34m*\u001b[0m\u001b[0mmu\u001b[0m\u001b[0;34m*\u001b[0m \u001b[0mgrad\u001b[0m\u001b[0;34m(\u001b[0m\u001b[0mphi1\u001b[0m\u001b[0;34m)\u001b[0m \u001b[0;34m-\u001b[0m \u001b[0mgrad\u001b[0m\u001b[0;34m(\u001b[0m\u001b[0mphi2\u001b[0m\u001b[0;34m)\u001b[0m\u001b[0;34m*\u001b[0m\u001b[0mmu\u001b[0m\u001b[0;34m*\u001b[0m \u001b[0mgrad\u001b[0m\u001b[0;34m(\u001b[0m\u001b[0mphi2\u001b[0m\u001b[0;34m)\u001b[0m\u001b[0;34m)\u001b[0m\u001b[0;34m*\u001b[0m\u001b[0mdx\u001b[0m\u001b[0;34m)\u001b[0m\u001b[0;34m\u001b[0m\u001b[0;34m\u001b[0m\u001b[0m\n\u001b[0m",
      "\u001b[0;31mTypeError\u001b[0m: Integrate(): incompatible function arguments. The following argument types are supported:\n    1. (cf: ngsolve.fem.CoefficientFunction, mesh: Union[ngsolve.comp.Mesh, ngsolve.comp.Region], VOL_or_BND: ngsolve.comp.VorB = <VorB.VOL: 0>, order: int = 5, definedon: ngsolve.comp.Region = None, region_wise: bool = False, element_wise: bool = False) -> object\n    2. (igls: ngsolve.comp.SumOfIntegrals, mesh: ngsolve.comp.Mesh, element_wise: bool = False) -> object\n\nInvoked with: <ngsolve.comp.SumOfIntegrals object at 0x7f9d087ab830>"
     ]
    }
   ],
   "source": [
    "Integrate((grad(phi1)*mu* grad(phi1) - grad(phi2)*mu* grad(phi2))*dx)"
   ]
  },
  {
   "cell_type": "code",
   "execution_count": null,
   "metadata": {},
   "outputs": [],
   "source": [
    "(grad(phi1)*mu* grad(phi1) - grad(phi2)*mu* grad(phi2))*dx"
   ]
  },
  {
   "cell_type": "code",
   "execution_count": null,
   "metadata": {},
   "outputs": [],
   "source": [
    "grad(phi1)*mu* grad(phi1) - grad(phi2),mu* grad(phi2)"
   ]
  },
  {
   "cell_type": "code",
   "execution_count": null,
   "metadata": {},
   "outputs": [],
   "source": [
    "g.vec[:]= g.vec[:].FV().NumPy()/max(g.vec[:])"
   ]
  },
  {
   "cell_type": "code",
   "execution_count": null,
   "metadata": {},
   "outputs": [],
   "source": [
    "Integrate(grad(phi1)*mu* grad(phi1) - grad(phi2)*mu* grad(phi2), mesh)"
   ]
  },
  {
   "cell_type": "code",
   "execution_count": null,
   "metadata": {},
   "outputs": [],
   "source": [
    "J=[]\n",
    "step = 0.1\n",
    "g = GridFunction(fespace_mu)"
   ]
  },
  {
   "cell_type": "code",
   "execution_count": null,
   "metadata": {},
   "outputs": [],
   "source": [
    "help(Draw)"
   ]
  },
  {
   "cell_type": "code",
   "execution_count": null,
   "metadata": {},
   "outputs": [],
   "source": [
    "a.datavec.FV()[:] = a.vec.FV()[:] /max(a.vec.FV()[:] )"
   ]
  },
  {
   "cell_type": "code",
   "execution_count": null,
   "metadata": {},
   "outputs": [],
   "source": []
  }
 ],
 "metadata": {
  "kernelspec": {
   "display_name": "Python 3 (ipykernel)",
   "language": "python",
   "name": "python3"
  },
  "language_info": {
   "codemirror_mode": {
    "name": "ipython",
    "version": 3
   },
   "file_extension": ".py",
   "mimetype": "text/x-python",
   "name": "python",
   "nbconvert_exporter": "python",
   "pygments_lexer": "ipython3",
   "version": "3.8.10"
  },
  "livereveal": {
   "autolaunch": true
  },
  "toc": {
   "base_numbering": 1,
   "nav_menu": {},
   "number_sections": true,
   "sideBar": true,
   "skip_h1_title": false,
   "title_cell": "Table of Contents",
   "title_sidebar": "Contents",
   "toc_cell": false,
   "toc_position": {},
   "toc_section_display": true,
   "toc_window_display": false
  }
 },
 "nbformat": 4,
 "nbformat_minor": 4
}
